{
  "cells": [
    {
      "cell_type": "markdown",
      "metadata": {
        "id": "view-in-github",
        "colab_type": "text"
      },
      "source": [
        "<a href=\"https://colab.research.google.com/github/yashwany/NETFLIX-MOVIES-AND-TV-SHOWS-CLUSTERING/blob/main/Copy_of_NETFLIX_MOVIES_AND_TV_SHOWS_CLUSTERING.ipynb\" target=\"_parent\"><img src=\"https://colab.research.google.com/assets/colab-badge.svg\" alt=\"Open In Colab\"/></a>"
      ]
    },
    {
      "cell_type": "markdown",
      "metadata": {
        "id": "LGcl5Bv9ed6u"
      },
      "source": [
        "# **Problem Statement**"
      ]
    },
    {
      "cell_type": "markdown",
      "metadata": {
        "id": "8M5kyFaVjzXk"
      },
      "source": [
        "This dataset consists of tv shows and movies available on Netflix as of 2019. The dataset is collected from Flixable which is a third-party Netflix search engine.\n",
        "\n",
        "In 2018, they released an interesting report which shows that the number of TV shows on Netflix has nearly tripled since 2010. The streaming service’s number of movies has decreased by more than 2,000 titles since 2010, while its number of TV shows has nearly tripled. It will be interesting to explore what all other insights can be obtained from the same dataset.\n",
        "\n",
        "Integrating this dataset with other external datasets such as IMDB ratings, rotten tomatoes can also provide many interesting findings."
      ]
    },
    {
      "cell_type": "markdown",
      "metadata": {
        "id": "tLx5cJO8hzb1"
      },
      "source": [
        "## <b>In this  project, you are required to do </b>\n",
        "1. Exploratory Data Analysis \n",
        "\n",
        "2. Understanding what type content is available in different countries\n",
        "\n",
        "3. Is Netflix has increasingly focusing on TV rather than movies in recent years.\n",
        "4. Clustering similar content by matching text-based features\n",
        "\n"
      ]
    },
    {
      "cell_type": "markdown",
      "metadata": {
        "id": "AzGDqdC4fZ-b"
      },
      "source": [
        "# **Attribute Information**"
      ]
    },
    {
      "cell_type": "markdown",
      "metadata": {
        "id": "jhfLYargscGV"
      },
      "source": [
        "1. show_id : Unique ID for every Movie / Tv Show\n",
        "\n",
        "2. type : Identifier - A Movie or TV Show\n",
        "\n",
        "3. title : Title of the Movie / Tv Show\n",
        "\n",
        "4. director : Director of the Movie\n",
        "\n",
        "5. cast : Actors involved in the movie / show\n",
        "\n",
        "6. country : Country where the movie / show was produced\n",
        "\n",
        "7. date_added : Date it was added on Netflix\n",
        "\n",
        "8. release_year : Actual Releaseyear of the movie / show\n",
        "\n",
        "9. rating : TV Rating of the movie / show\n",
        "\n",
        "10. duration : Total Duration - in minutes or number of seasons\n",
        "\n",
        "11. listed_in : Genere\n",
        "\n",
        "12. description: The Summary description"
      ]
    },
    {
      "cell_type": "code",
      "execution_count": 204,
      "metadata": {
        "colab": {
          "base_uri": "https://localhost:8080/"
        },
        "id": "C3V2Q3f_3sA5",
        "outputId": "5aaa3648-3b5c-4c36-d8cc-4b04a64c7167"
      },
      "outputs": [
        {
          "output_type": "stream",
          "name": "stdout",
          "text": [
            "Looking in indexes: https://pypi.org/simple, https://us-python.pkg.dev/colab-wheels/public/simple/\n",
            "Requirement already satisfied: nltk in /usr/local/lib/python3.7/dist-packages (3.7)\n",
            "Requirement already satisfied: regex>=2021.8.3 in /usr/local/lib/python3.7/dist-packages (from nltk) (2022.6.2)\n",
            "Requirement already satisfied: joblib in /usr/local/lib/python3.7/dist-packages (from nltk) (1.2.0)\n",
            "Requirement already satisfied: tqdm in /usr/local/lib/python3.7/dist-packages (from nltk) (4.64.1)\n",
            "Requirement already satisfied: click in /usr/local/lib/python3.7/dist-packages (from nltk) (7.1.2)\n",
            "[nltk_data] Downloading collection 'all'\n",
            "[nltk_data]    | \n",
            "[nltk_data]    | Downloading package abc to /root/nltk_data...\n",
            "[nltk_data]    |   Package abc is already up-to-date!\n",
            "[nltk_data]    | Downloading package alpino to /root/nltk_data...\n",
            "[nltk_data]    |   Package alpino is already up-to-date!\n",
            "[nltk_data]    | Downloading package averaged_perceptron_tagger to\n",
            "[nltk_data]    |     /root/nltk_data...\n",
            "[nltk_data]    |   Package averaged_perceptron_tagger is already up-\n",
            "[nltk_data]    |       to-date!\n",
            "[nltk_data]    | Downloading package averaged_perceptron_tagger_ru to\n",
            "[nltk_data]    |     /root/nltk_data...\n",
            "[nltk_data]    |   Package averaged_perceptron_tagger_ru is already\n",
            "[nltk_data]    |       up-to-date!\n",
            "[nltk_data]    | Downloading package basque_grammars to\n",
            "[nltk_data]    |     /root/nltk_data...\n",
            "[nltk_data]    |   Package basque_grammars is already up-to-date!\n",
            "[nltk_data]    | Downloading package biocreative_ppi to\n",
            "[nltk_data]    |     /root/nltk_data...\n",
            "[nltk_data]    |   Package biocreative_ppi is already up-to-date!\n",
            "[nltk_data]    | Downloading package bllip_wsj_no_aux to\n",
            "[nltk_data]    |     /root/nltk_data...\n",
            "[nltk_data]    |   Package bllip_wsj_no_aux is already up-to-date!\n",
            "[nltk_data]    | Downloading package book_grammars to\n",
            "[nltk_data]    |     /root/nltk_data...\n",
            "[nltk_data]    |   Package book_grammars is already up-to-date!\n",
            "[nltk_data]    | Downloading package brown to /root/nltk_data...\n",
            "[nltk_data]    |   Package brown is already up-to-date!\n",
            "[nltk_data]    | Downloading package brown_tei to /root/nltk_data...\n",
            "[nltk_data]    |   Package brown_tei is already up-to-date!\n",
            "[nltk_data]    | Downloading package cess_cat to /root/nltk_data...\n",
            "[nltk_data]    |   Package cess_cat is already up-to-date!\n",
            "[nltk_data]    | Downloading package cess_esp to /root/nltk_data...\n",
            "[nltk_data]    |   Package cess_esp is already up-to-date!\n",
            "[nltk_data]    | Downloading package chat80 to /root/nltk_data...\n",
            "[nltk_data]    |   Package chat80 is already up-to-date!\n",
            "[nltk_data]    | Downloading package city_database to\n",
            "[nltk_data]    |     /root/nltk_data...\n",
            "[nltk_data]    |   Package city_database is already up-to-date!\n",
            "[nltk_data]    | Downloading package cmudict to /root/nltk_data...\n",
            "[nltk_data]    |   Package cmudict is already up-to-date!\n",
            "[nltk_data]    | Downloading package comparative_sentences to\n",
            "[nltk_data]    |     /root/nltk_data...\n",
            "[nltk_data]    |   Package comparative_sentences is already up-to-\n",
            "[nltk_data]    |       date!\n",
            "[nltk_data]    | Downloading package comtrans to /root/nltk_data...\n",
            "[nltk_data]    |   Package comtrans is already up-to-date!\n",
            "[nltk_data]    | Downloading package conll2000 to /root/nltk_data...\n",
            "[nltk_data]    |   Package conll2000 is already up-to-date!\n",
            "[nltk_data]    | Downloading package conll2002 to /root/nltk_data...\n",
            "[nltk_data]    |   Package conll2002 is already up-to-date!\n",
            "[nltk_data]    | Downloading package conll2007 to /root/nltk_data...\n",
            "[nltk_data]    |   Package conll2007 is already up-to-date!\n",
            "[nltk_data]    | Downloading package crubadan to /root/nltk_data...\n",
            "[nltk_data]    |   Package crubadan is already up-to-date!\n",
            "[nltk_data]    | Downloading package dependency_treebank to\n",
            "[nltk_data]    |     /root/nltk_data...\n",
            "[nltk_data]    |   Package dependency_treebank is already up-to-date!\n",
            "[nltk_data]    | Downloading package dolch to /root/nltk_data...\n",
            "[nltk_data]    |   Package dolch is already up-to-date!\n",
            "[nltk_data]    | Downloading package europarl_raw to\n",
            "[nltk_data]    |     /root/nltk_data...\n",
            "[nltk_data]    |   Package europarl_raw is already up-to-date!\n",
            "[nltk_data]    | Downloading package extended_omw to\n",
            "[nltk_data]    |     /root/nltk_data...\n",
            "[nltk_data]    |   Package extended_omw is already up-to-date!\n",
            "[nltk_data]    | Downloading package floresta to /root/nltk_data...\n",
            "[nltk_data]    |   Package floresta is already up-to-date!\n",
            "[nltk_data]    | Downloading package framenet_v15 to\n",
            "[nltk_data]    |     /root/nltk_data...\n",
            "[nltk_data]    |   Package framenet_v15 is already up-to-date!\n",
            "[nltk_data]    | Downloading package framenet_v17 to\n",
            "[nltk_data]    |     /root/nltk_data...\n",
            "[nltk_data]    |   Package framenet_v17 is already up-to-date!\n",
            "[nltk_data]    | Downloading package gazetteers to /root/nltk_data...\n",
            "[nltk_data]    |   Package gazetteers is already up-to-date!\n",
            "[nltk_data]    | Downloading package genesis to /root/nltk_data...\n",
            "[nltk_data]    |   Package genesis is already up-to-date!\n",
            "[nltk_data]    | Downloading package gutenberg to /root/nltk_data...\n",
            "[nltk_data]    |   Package gutenberg is already up-to-date!\n",
            "[nltk_data]    | Downloading package ieer to /root/nltk_data...\n",
            "[nltk_data]    |   Package ieer is already up-to-date!\n",
            "[nltk_data]    | Downloading package inaugural to /root/nltk_data...\n",
            "[nltk_data]    |   Package inaugural is already up-to-date!\n",
            "[nltk_data]    | Downloading package indian to /root/nltk_data...\n",
            "[nltk_data]    |   Package indian is already up-to-date!\n",
            "[nltk_data]    | Downloading package jeita to /root/nltk_data...\n",
            "[nltk_data]    |   Package jeita is already up-to-date!\n",
            "[nltk_data]    | Downloading package kimmo to /root/nltk_data...\n",
            "[nltk_data]    |   Package kimmo is already up-to-date!\n",
            "[nltk_data]    | Downloading package knbc to /root/nltk_data...\n",
            "[nltk_data]    |   Package knbc is already up-to-date!\n",
            "[nltk_data]    | Downloading package large_grammars to\n",
            "[nltk_data]    |     /root/nltk_data...\n",
            "[nltk_data]    |   Package large_grammars is already up-to-date!\n",
            "[nltk_data]    | Downloading package lin_thesaurus to\n",
            "[nltk_data]    |     /root/nltk_data...\n",
            "[nltk_data]    |   Package lin_thesaurus is already up-to-date!\n",
            "[nltk_data]    | Downloading package mac_morpho to /root/nltk_data...\n",
            "[nltk_data]    |   Package mac_morpho is already up-to-date!\n",
            "[nltk_data]    | Downloading package machado to /root/nltk_data...\n",
            "[nltk_data]    |   Package machado is already up-to-date!\n",
            "[nltk_data]    | Downloading package masc_tagged to /root/nltk_data...\n",
            "[nltk_data]    |   Package masc_tagged is already up-to-date!\n",
            "[nltk_data]    | Downloading package maxent_ne_chunker to\n",
            "[nltk_data]    |     /root/nltk_data...\n",
            "[nltk_data]    |   Package maxent_ne_chunker is already up-to-date!\n",
            "[nltk_data]    | Downloading package maxent_treebank_pos_tagger to\n",
            "[nltk_data]    |     /root/nltk_data...\n",
            "[nltk_data]    |   Package maxent_treebank_pos_tagger is already up-\n",
            "[nltk_data]    |       to-date!\n",
            "[nltk_data]    | Downloading package moses_sample to\n",
            "[nltk_data]    |     /root/nltk_data...\n",
            "[nltk_data]    |   Package moses_sample is already up-to-date!\n",
            "[nltk_data]    | Downloading package movie_reviews to\n",
            "[nltk_data]    |     /root/nltk_data...\n",
            "[nltk_data]    |   Package movie_reviews is already up-to-date!\n",
            "[nltk_data]    | Downloading package mte_teip5 to /root/nltk_data...\n",
            "[nltk_data]    |   Package mte_teip5 is already up-to-date!\n",
            "[nltk_data]    | Downloading package mwa_ppdb to /root/nltk_data...\n",
            "[nltk_data]    |   Package mwa_ppdb is already up-to-date!\n",
            "[nltk_data]    | Downloading package names to /root/nltk_data...\n",
            "[nltk_data]    |   Package names is already up-to-date!\n",
            "[nltk_data]    | Downloading package nombank.1.0 to /root/nltk_data...\n",
            "[nltk_data]    |   Package nombank.1.0 is already up-to-date!\n",
            "[nltk_data]    | Downloading package nonbreaking_prefixes to\n",
            "[nltk_data]    |     /root/nltk_data...\n",
            "[nltk_data]    |   Package nonbreaking_prefixes is already up-to-date!\n",
            "[nltk_data]    | Downloading package nps_chat to /root/nltk_data...\n",
            "[nltk_data]    |   Package nps_chat is already up-to-date!\n",
            "[nltk_data]    | Downloading package omw to /root/nltk_data...\n",
            "[nltk_data]    |   Package omw is already up-to-date!\n",
            "[nltk_data]    | Downloading package omw-1.4 to /root/nltk_data...\n",
            "[nltk_data]    |   Package omw-1.4 is already up-to-date!\n",
            "[nltk_data]    | Downloading package opinion_lexicon to\n",
            "[nltk_data]    |     /root/nltk_data...\n",
            "[nltk_data]    |   Package opinion_lexicon is already up-to-date!\n",
            "[nltk_data]    | Downloading package panlex_swadesh to\n",
            "[nltk_data]    |     /root/nltk_data...\n",
            "[nltk_data]    |   Package panlex_swadesh is already up-to-date!\n",
            "[nltk_data]    | Downloading package paradigms to /root/nltk_data...\n",
            "[nltk_data]    |   Package paradigms is already up-to-date!\n",
            "[nltk_data]    | Downloading package pe08 to /root/nltk_data...\n",
            "[nltk_data]    |   Package pe08 is already up-to-date!\n",
            "[nltk_data]    | Downloading package perluniprops to\n",
            "[nltk_data]    |     /root/nltk_data...\n",
            "[nltk_data]    |   Package perluniprops is already up-to-date!\n",
            "[nltk_data]    | Downloading package pil to /root/nltk_data...\n",
            "[nltk_data]    |   Package pil is already up-to-date!\n",
            "[nltk_data]    | Downloading package pl196x to /root/nltk_data...\n",
            "[nltk_data]    |   Package pl196x is already up-to-date!\n",
            "[nltk_data]    | Downloading package porter_test to /root/nltk_data...\n",
            "[nltk_data]    |   Package porter_test is already up-to-date!\n",
            "[nltk_data]    | Downloading package ppattach to /root/nltk_data...\n",
            "[nltk_data]    |   Package ppattach is already up-to-date!\n",
            "[nltk_data]    | Downloading package problem_reports to\n",
            "[nltk_data]    |     /root/nltk_data...\n",
            "[nltk_data]    |   Package problem_reports is already up-to-date!\n",
            "[nltk_data]    | Downloading package product_reviews_1 to\n",
            "[nltk_data]    |     /root/nltk_data...\n",
            "[nltk_data]    |   Package product_reviews_1 is already up-to-date!\n",
            "[nltk_data]    | Downloading package product_reviews_2 to\n",
            "[nltk_data]    |     /root/nltk_data...\n",
            "[nltk_data]    |   Package product_reviews_2 is already up-to-date!\n",
            "[nltk_data]    | Downloading package propbank to /root/nltk_data...\n",
            "[nltk_data]    |   Package propbank is already up-to-date!\n",
            "[nltk_data]    | Downloading package pros_cons to /root/nltk_data...\n",
            "[nltk_data]    |   Package pros_cons is already up-to-date!\n",
            "[nltk_data]    | Downloading package ptb to /root/nltk_data...\n",
            "[nltk_data]    |   Package ptb is already up-to-date!\n",
            "[nltk_data]    | Downloading package punkt to /root/nltk_data...\n",
            "[nltk_data]    |   Package punkt is already up-to-date!\n",
            "[nltk_data]    | Downloading package qc to /root/nltk_data...\n",
            "[nltk_data]    |   Package qc is already up-to-date!\n",
            "[nltk_data]    | Downloading package reuters to /root/nltk_data...\n",
            "[nltk_data]    |   Package reuters is already up-to-date!\n",
            "[nltk_data]    | Downloading package rslp to /root/nltk_data...\n",
            "[nltk_data]    |   Package rslp is already up-to-date!\n",
            "[nltk_data]    | Downloading package rte to /root/nltk_data...\n",
            "[nltk_data]    |   Package rte is already up-to-date!\n",
            "[nltk_data]    | Downloading package sample_grammars to\n",
            "[nltk_data]    |     /root/nltk_data...\n",
            "[nltk_data]    |   Package sample_grammars is already up-to-date!\n",
            "[nltk_data]    | Downloading package semcor to /root/nltk_data...\n",
            "[nltk_data]    |   Package semcor is already up-to-date!\n",
            "[nltk_data]    | Downloading package senseval to /root/nltk_data...\n",
            "[nltk_data]    |   Package senseval is already up-to-date!\n",
            "[nltk_data]    | Downloading package sentence_polarity to\n",
            "[nltk_data]    |     /root/nltk_data...\n",
            "[nltk_data]    |   Package sentence_polarity is already up-to-date!\n",
            "[nltk_data]    | Downloading package sentiwordnet to\n",
            "[nltk_data]    |     /root/nltk_data...\n",
            "[nltk_data]    |   Package sentiwordnet is already up-to-date!\n",
            "[nltk_data]    | Downloading package shakespeare to /root/nltk_data...\n",
            "[nltk_data]    |   Package shakespeare is already up-to-date!\n",
            "[nltk_data]    | Downloading package sinica_treebank to\n",
            "[nltk_data]    |     /root/nltk_data...\n",
            "[nltk_data]    |   Package sinica_treebank is already up-to-date!\n",
            "[nltk_data]    | Downloading package smultron to /root/nltk_data...\n",
            "[nltk_data]    |   Package smultron is already up-to-date!\n",
            "[nltk_data]    | Downloading package snowball_data to\n",
            "[nltk_data]    |     /root/nltk_data...\n",
            "[nltk_data]    |   Package snowball_data is already up-to-date!\n",
            "[nltk_data]    | Downloading package spanish_grammars to\n",
            "[nltk_data]    |     /root/nltk_data...\n",
            "[nltk_data]    |   Package spanish_grammars is already up-to-date!\n",
            "[nltk_data]    | Downloading package state_union to /root/nltk_data...\n",
            "[nltk_data]    |   Package state_union is already up-to-date!\n",
            "[nltk_data]    | Downloading package stopwords to /root/nltk_data...\n",
            "[nltk_data]    |   Package stopwords is already up-to-date!\n",
            "[nltk_data]    | Downloading package subjectivity to\n",
            "[nltk_data]    |     /root/nltk_data...\n",
            "[nltk_data]    |   Package subjectivity is already up-to-date!\n",
            "[nltk_data]    | Downloading package swadesh to /root/nltk_data...\n",
            "[nltk_data]    |   Package swadesh is already up-to-date!\n",
            "[nltk_data]    | Downloading package switchboard to /root/nltk_data...\n",
            "[nltk_data]    |   Package switchboard is already up-to-date!\n",
            "[nltk_data]    | Downloading package tagsets to /root/nltk_data...\n",
            "[nltk_data]    |   Package tagsets is already up-to-date!\n",
            "[nltk_data]    | Downloading package timit to /root/nltk_data...\n",
            "[nltk_data]    |   Package timit is already up-to-date!\n",
            "[nltk_data]    | Downloading package toolbox to /root/nltk_data...\n",
            "[nltk_data]    |   Package toolbox is already up-to-date!\n",
            "[nltk_data]    | Downloading package treebank to /root/nltk_data...\n",
            "[nltk_data]    |   Package treebank is already up-to-date!\n",
            "[nltk_data]    | Downloading package twitter_samples to\n",
            "[nltk_data]    |     /root/nltk_data...\n",
            "[nltk_data]    |   Package twitter_samples is already up-to-date!\n",
            "[nltk_data]    | Downloading package udhr to /root/nltk_data...\n",
            "[nltk_data]    |   Package udhr is already up-to-date!\n",
            "[nltk_data]    | Downloading package udhr2 to /root/nltk_data...\n",
            "[nltk_data]    |   Package udhr2 is already up-to-date!\n",
            "[nltk_data]    | Downloading package unicode_samples to\n",
            "[nltk_data]    |     /root/nltk_data...\n",
            "[nltk_data]    |   Package unicode_samples is already up-to-date!\n",
            "[nltk_data]    | Downloading package universal_tagset to\n",
            "[nltk_data]    |     /root/nltk_data...\n",
            "[nltk_data]    |   Package universal_tagset is already up-to-date!\n",
            "[nltk_data]    | Downloading package universal_treebanks_v20 to\n",
            "[nltk_data]    |     /root/nltk_data...\n",
            "[nltk_data]    |   Package universal_treebanks_v20 is already up-to-\n",
            "[nltk_data]    |       date!\n",
            "[nltk_data]    | Downloading package vader_lexicon to\n",
            "[nltk_data]    |     /root/nltk_data...\n",
            "[nltk_data]    |   Package vader_lexicon is already up-to-date!\n",
            "[nltk_data]    | Downloading package verbnet to /root/nltk_data...\n",
            "[nltk_data]    |   Package verbnet is already up-to-date!\n",
            "[nltk_data]    | Downloading package verbnet3 to /root/nltk_data...\n",
            "[nltk_data]    |   Package verbnet3 is already up-to-date!\n",
            "[nltk_data]    | Downloading package webtext to /root/nltk_data...\n",
            "[nltk_data]    |   Package webtext is already up-to-date!\n",
            "[nltk_data]    | Downloading package wmt15_eval to /root/nltk_data...\n",
            "[nltk_data]    |   Package wmt15_eval is already up-to-date!\n",
            "[nltk_data]    | Downloading package word2vec_sample to\n",
            "[nltk_data]    |     /root/nltk_data...\n",
            "[nltk_data]    |   Package word2vec_sample is already up-to-date!\n",
            "[nltk_data]    | Downloading package wordnet to /root/nltk_data...\n",
            "[nltk_data]    |   Package wordnet is already up-to-date!\n",
            "[nltk_data]    | Downloading package wordnet2021 to /root/nltk_data...\n",
            "[nltk_data]    |   Package wordnet2021 is already up-to-date!\n",
            "[nltk_data]    | Downloading package wordnet31 to /root/nltk_data...\n",
            "[nltk_data]    |   Package wordnet31 is already up-to-date!\n",
            "[nltk_data]    | Downloading package wordnet_ic to /root/nltk_data...\n",
            "[nltk_data]    |   Package wordnet_ic is already up-to-date!\n",
            "[nltk_data]    | Downloading package words to /root/nltk_data...\n",
            "[nltk_data]    |   Package words is already up-to-date!\n",
            "[nltk_data]    | Downloading package ycoe to /root/nltk_data...\n",
            "[nltk_data]    |   Package ycoe is already up-to-date!\n",
            "[nltk_data]    | \n",
            "[nltk_data]  Done downloading collection all\n"
          ]
        },
        {
          "output_type": "stream",
          "name": "stderr",
          "text": [
            "[nltk_data] Downloading package stopwords to /root/nltk_data...\n",
            "[nltk_data]   Package stopwords is already up-to-date!\n"
          ]
        }
      ],
      "source": [
        "#Importing the libraries\n",
        "import pandas as pd\n",
        "import numpy as np\n",
        "import pylab as pl\n",
        "import spacy\n",
        "import sklearn\n",
        "import en_core_web_sm\n",
        "\n",
        "import matplotlib.pyplot as plt\n",
        "import plotly.express as px\n",
        "import seaborn as sns\n",
        "import warnings\n",
        "warnings.filterwarnings('ignore')\n",
        "\n",
        "from nltk.corpus import stopwords  #stopwords\n",
        "from nltk import word_tokenize,sent_tokenize # tokenizing\n",
        "from nltk.stem import PorterStemmer,LancasterStemmer  # using the Porter Stemmer and Lancaster Stemmer and others\n",
        "from nltk.stem.snowball import SnowballStemmer\n",
        "from nltk.stem import WordNetLemmatizer  # lammatizer from WordNet\n",
        "!pip install nltk\n",
        "import nltk \n",
        "!python3 -c \"import nltk; nltk.download('all')\"\n",
        "\n",
        "# for named entity recognition (NER)\n",
        "from nltk import ne_chunk\n",
        "\n",
        "# vectorizers for creating the document-term-matrix (DTM)\n",
        "from sklearn.feature_extraction.text import TfidfVectorizer,CountVectorizer\n",
        "from sklearn.decomposition import TruncatedSVD\n",
        "\n",
        "#stop-words\n",
        "nltk.download('stopwords')\n",
        "from nltk.corpus import stopwords\n",
        "STOPWORDS = set(stopwords.words('english'))\n",
        "from sklearn.decomposition import LatentDirichletAllocation\n",
        "from wordcloud import WordCloud\n",
        "from sklearn.cluster import KMeans\n",
        "from sklearn.decomposition import PCA\n",
        "from sklearn.metrics.pairwise import linear_kernel\n",
        "from sklearn.preprocessing import StandardScaler\n",
        "\n",
        "\n",
        "# Importing libraries for clustering\n",
        "import matplotlib.cm as cm\n",
        "from sklearn import metrics\n",
        "from sklearn.preprocessing import LabelEncoder\n",
        "from sklearn.preprocessing import StandardScaler\n",
        "from sklearn.decomposition import PCA\n",
        "#from scipy.cluster.hierarchy import linkage\n",
        "from sklearn.cluster import AgglomerativeClustering\n",
        "from sklearn.cluster import AffinityPropagation\n",
        "from sklearn.datasets import make_blobs\n",
        "from sklearn.metrics import silhouette_samples, silhouette_score\n",
        "from sklearn.preprocessing import MinMaxScaler\n",
        "from sklearn.preprocessing import MultiLabelBinarizer\n",
        "from sklearn.preprocessing import OneHotEncoder"
      ]
    },
    {
      "cell_type": "code",
      "execution_count": 205,
      "metadata": {
        "colab": {
          "base_uri": "https://localhost:8080/"
        },
        "id": "7Abb0ekALJRk",
        "outputId": "f1f35c4b-4535-41e7-a943-a7691336159a"
      },
      "outputs": [
        {
          "output_type": "stream",
          "name": "stdout",
          "text": [
            "2022-11-05 12:47:44.057049: E tensorflow/stream_executor/cuda/cuda_driver.cc:271] failed call to cuInit: CUDA_ERROR_NO_DEVICE: no CUDA-capable device is detected\n",
            "Looking in indexes: https://pypi.org/simple, https://us-python.pkg.dev/colab-wheels/public/simple/\n",
            "Collecting en-core-web-lg==3.4.1\n",
            "  Downloading https://github.com/explosion/spacy-models/releases/download/en_core_web_lg-3.4.1/en_core_web_lg-3.4.1-py3-none-any.whl (587.7 MB)\n",
            "\u001b[K     |████████████████████████████████| 587.7 MB 14 kB/s \n",
            "\u001b[?25hRequirement already satisfied: spacy<3.5.0,>=3.4.0 in /usr/local/lib/python3.7/dist-packages (from en-core-web-lg==3.4.1) (3.4.2)\n",
            "Requirement already satisfied: spacy-legacy<3.1.0,>=3.0.10 in /usr/local/lib/python3.7/dist-packages (from spacy<3.5.0,>=3.4.0->en-core-web-lg==3.4.1) (3.0.10)\n",
            "Requirement already satisfied: srsly<3.0.0,>=2.4.3 in /usr/local/lib/python3.7/dist-packages (from spacy<3.5.0,>=3.4.0->en-core-web-lg==3.4.1) (2.4.5)\n",
            "Requirement already satisfied: packaging>=20.0 in /usr/local/lib/python3.7/dist-packages (from spacy<3.5.0,>=3.4.0->en-core-web-lg==3.4.1) (21.3)\n",
            "Requirement already satisfied: tqdm<5.0.0,>=4.38.0 in /usr/local/lib/python3.7/dist-packages (from spacy<3.5.0,>=3.4.0->en-core-web-lg==3.4.1) (4.64.1)\n",
            "Requirement already satisfied: cymem<2.1.0,>=2.0.2 in /usr/local/lib/python3.7/dist-packages (from spacy<3.5.0,>=3.4.0->en-core-web-lg==3.4.1) (2.0.7)\n",
            "Requirement already satisfied: catalogue<2.1.0,>=2.0.6 in /usr/local/lib/python3.7/dist-packages (from spacy<3.5.0,>=3.4.0->en-core-web-lg==3.4.1) (2.0.8)\n",
            "Requirement already satisfied: jinja2 in /usr/local/lib/python3.7/dist-packages (from spacy<3.5.0,>=3.4.0->en-core-web-lg==3.4.1) (2.11.3)\n",
            "Requirement already satisfied: typing-extensions<4.2.0,>=3.7.4 in /usr/local/lib/python3.7/dist-packages (from spacy<3.5.0,>=3.4.0->en-core-web-lg==3.4.1) (4.1.1)\n",
            "Requirement already satisfied: pydantic!=1.8,!=1.8.1,<1.11.0,>=1.7.4 in /usr/local/lib/python3.7/dist-packages (from spacy<3.5.0,>=3.4.0->en-core-web-lg==3.4.1) (1.10.2)\n",
            "Requirement already satisfied: numpy>=1.15.0 in /usr/local/lib/python3.7/dist-packages (from spacy<3.5.0,>=3.4.0->en-core-web-lg==3.4.1) (1.21.6)\n",
            "Requirement already satisfied: spacy-loggers<2.0.0,>=1.0.0 in /usr/local/lib/python3.7/dist-packages (from spacy<3.5.0,>=3.4.0->en-core-web-lg==3.4.1) (1.0.3)\n",
            "Requirement already satisfied: preshed<3.1.0,>=3.0.2 in /usr/local/lib/python3.7/dist-packages (from spacy<3.5.0,>=3.4.0->en-core-web-lg==3.4.1) (3.0.8)\n",
            "Requirement already satisfied: requests<3.0.0,>=2.13.0 in /usr/local/lib/python3.7/dist-packages (from spacy<3.5.0,>=3.4.0->en-core-web-lg==3.4.1) (2.23.0)\n",
            "Requirement already satisfied: wasabi<1.1.0,>=0.9.1 in /usr/local/lib/python3.7/dist-packages (from spacy<3.5.0,>=3.4.0->en-core-web-lg==3.4.1) (0.10.1)\n",
            "Requirement already satisfied: typer<0.5.0,>=0.3.0 in /usr/local/lib/python3.7/dist-packages (from spacy<3.5.0,>=3.4.0->en-core-web-lg==3.4.1) (0.4.2)\n",
            "Requirement already satisfied: langcodes<4.0.0,>=3.2.0 in /usr/local/lib/python3.7/dist-packages (from spacy<3.5.0,>=3.4.0->en-core-web-lg==3.4.1) (3.3.0)\n",
            "Requirement already satisfied: thinc<8.2.0,>=8.1.0 in /usr/local/lib/python3.7/dist-packages (from spacy<3.5.0,>=3.4.0->en-core-web-lg==3.4.1) (8.1.5)\n",
            "Requirement already satisfied: setuptools in /usr/local/lib/python3.7/dist-packages (from spacy<3.5.0,>=3.4.0->en-core-web-lg==3.4.1) (57.4.0)\n",
            "Requirement already satisfied: murmurhash<1.1.0,>=0.28.0 in /usr/local/lib/python3.7/dist-packages (from spacy<3.5.0,>=3.4.0->en-core-web-lg==3.4.1) (1.0.9)\n",
            "Requirement already satisfied: pathy>=0.3.5 in /usr/local/lib/python3.7/dist-packages (from spacy<3.5.0,>=3.4.0->en-core-web-lg==3.4.1) (0.6.2)\n",
            "Requirement already satisfied: zipp>=0.5 in /usr/local/lib/python3.7/dist-packages (from catalogue<2.1.0,>=2.0.6->spacy<3.5.0,>=3.4.0->en-core-web-lg==3.4.1) (3.10.0)\n",
            "Requirement already satisfied: pyparsing!=3.0.5,>=2.0.2 in /usr/local/lib/python3.7/dist-packages (from packaging>=20.0->spacy<3.5.0,>=3.4.0->en-core-web-lg==3.4.1) (3.0.9)\n",
            "Requirement already satisfied: smart-open<6.0.0,>=5.2.1 in /usr/local/lib/python3.7/dist-packages (from pathy>=0.3.5->spacy<3.5.0,>=3.4.0->en-core-web-lg==3.4.1) (5.2.1)\n",
            "Requirement already satisfied: idna<3,>=2.5 in /usr/local/lib/python3.7/dist-packages (from requests<3.0.0,>=2.13.0->spacy<3.5.0,>=3.4.0->en-core-web-lg==3.4.1) (2.10)\n",
            "Requirement already satisfied: urllib3!=1.25.0,!=1.25.1,<1.26,>=1.21.1 in /usr/local/lib/python3.7/dist-packages (from requests<3.0.0,>=2.13.0->spacy<3.5.0,>=3.4.0->en-core-web-lg==3.4.1) (1.24.3)\n",
            "Requirement already satisfied: chardet<4,>=3.0.2 in /usr/local/lib/python3.7/dist-packages (from requests<3.0.0,>=2.13.0->spacy<3.5.0,>=3.4.0->en-core-web-lg==3.4.1) (3.0.4)\n",
            "Requirement already satisfied: certifi>=2017.4.17 in /usr/local/lib/python3.7/dist-packages (from requests<3.0.0,>=2.13.0->spacy<3.5.0,>=3.4.0->en-core-web-lg==3.4.1) (2022.9.24)\n",
            "Requirement already satisfied: blis<0.8.0,>=0.7.8 in /usr/local/lib/python3.7/dist-packages (from thinc<8.2.0,>=8.1.0->spacy<3.5.0,>=3.4.0->en-core-web-lg==3.4.1) (0.7.9)\n",
            "Requirement already satisfied: confection<1.0.0,>=0.0.1 in /usr/local/lib/python3.7/dist-packages (from thinc<8.2.0,>=8.1.0->spacy<3.5.0,>=3.4.0->en-core-web-lg==3.4.1) (0.0.3)\n",
            "Requirement already satisfied: click<9.0.0,>=7.1.1 in /usr/local/lib/python3.7/dist-packages (from typer<0.5.0,>=0.3.0->spacy<3.5.0,>=3.4.0->en-core-web-lg==3.4.1) (7.1.2)\n",
            "Requirement already satisfied: MarkupSafe>=0.23 in /usr/local/lib/python3.7/dist-packages (from jinja2->spacy<3.5.0,>=3.4.0->en-core-web-lg==3.4.1) (2.0.1)\n",
            "\u001b[38;5;2m✔ Download and installation successful\u001b[0m\n",
            "You can now load the package via spacy.load('en_core_web_lg')\n"
          ]
        }
      ],
      "source": [
        "!python -m spacy download en_core_web_lg\n"
      ]
    },
    {
      "cell_type": "markdown",
      "metadata": {
        "id": "PS2O_sY2cgXL"
      },
      "source": [
        "#**Loading the Dataset**\n",
        "There is a total of 7787 movies / TV shows in this data set collected from AlmaBetter\n",
        "\n",
        "Each row contains the following information: type (Movie or TV Show), title, director, cast, country, rating (ex. PG, PG-13, R, etc.), listed_in (genre), and plot description."
      ]
    },
    {
      "cell_type": "code",
      "execution_count": 206,
      "metadata": {
        "id": "oxHzvOD2Lbbk",
        "colab": {
          "base_uri": "https://localhost:8080/"
        },
        "outputId": "d5f1d703-ff4a-4547-f716-9645df91b9e5"
      },
      "outputs": [
        {
          "output_type": "stream",
          "name": "stdout",
          "text": [
            "Drive already mounted at /content/drive; to attempt to forcibly remount, call drive.mount(\"/content/drive\", force_remount=True).\n"
          ]
        }
      ],
      "source": [
        "from google.colab import drive\n",
        "drive.mount('/content/drive')\n"
      ]
    },
    {
      "cell_type": "code",
      "execution_count": 207,
      "metadata": {
        "id": "vIzUnKPQRwuo",
        "colab": {
          "base_uri": "https://localhost:8080/",
          "height": 337
        },
        "outputId": "c798d763-a38b-4b7a-e186-530c6f3c368d"
      },
      "outputs": [
        {
          "output_type": "execute_result",
          "data": {
            "text/plain": [
              "      type  title           director  \\\n",
              "0  TV Show     3%                NaN   \n",
              "1    Movie   7:19  Jorge Michel Grau   \n",
              "2    Movie  23:59       Gilbert Chan   \n",
              "3    Movie      9        Shane Acker   \n",
              "4    Movie     21     Robert Luketic   \n",
              "\n",
              "                                                cast        country rating  \\\n",
              "0  João Miguel, Bianca Comparato, Michel Gomes, R...         Brazil  TV-MA   \n",
              "1  Demián Bichir, Héctor Bonilla, Oscar Serrano, ...         Mexico  TV-MA   \n",
              "2  Tedd Chan, Stella Chung, Henley Hii, Lawrence ...      Singapore      R   \n",
              "3  Elijah Wood, John C. Reilly, Jennifer Connelly...  United States  PG-13   \n",
              "4  Jim Sturgess, Kevin Spacey, Kate Bosworth, Aar...  United States  PG-13   \n",
              "\n",
              "                                           listed_in  \\\n",
              "0  International TV Shows, TV Dramas, TV Sci-Fi &...   \n",
              "1                       Dramas, International Movies   \n",
              "2                Horror Movies, International Movies   \n",
              "3  Action & Adventure, Independent Movies, Sci-Fi...   \n",
              "4                                             Dramas   \n",
              "\n",
              "                                         description  \n",
              "0  In a future where the elite inhabit an island ...  \n",
              "1  After a devastating earthquake hits Mexico Cit...  \n",
              "2  When an army recruit is found dead, his fellow...  \n",
              "3  In a postapocalyptic world, rag-doll robots hi...  \n",
              "4  A brilliant group of students become card-coun...  "
            ],
            "text/html": [
              "\n",
              "  <div id=\"df-a7bcb20b-ab61-4af6-9810-ef79c2ddace6\">\n",
              "    <div class=\"colab-df-container\">\n",
              "      <div>\n",
              "<style scoped>\n",
              "    .dataframe tbody tr th:only-of-type {\n",
              "        vertical-align: middle;\n",
              "    }\n",
              "\n",
              "    .dataframe tbody tr th {\n",
              "        vertical-align: top;\n",
              "    }\n",
              "\n",
              "    .dataframe thead th {\n",
              "        text-align: right;\n",
              "    }\n",
              "</style>\n",
              "<table border=\"1\" class=\"dataframe\">\n",
              "  <thead>\n",
              "    <tr style=\"text-align: right;\">\n",
              "      <th></th>\n",
              "      <th>type</th>\n",
              "      <th>title</th>\n",
              "      <th>director</th>\n",
              "      <th>cast</th>\n",
              "      <th>country</th>\n",
              "      <th>rating</th>\n",
              "      <th>listed_in</th>\n",
              "      <th>description</th>\n",
              "    </tr>\n",
              "  </thead>\n",
              "  <tbody>\n",
              "    <tr>\n",
              "      <th>0</th>\n",
              "      <td>TV Show</td>\n",
              "      <td>3%</td>\n",
              "      <td>NaN</td>\n",
              "      <td>João Miguel, Bianca Comparato, Michel Gomes, R...</td>\n",
              "      <td>Brazil</td>\n",
              "      <td>TV-MA</td>\n",
              "      <td>International TV Shows, TV Dramas, TV Sci-Fi &amp;...</td>\n",
              "      <td>In a future where the elite inhabit an island ...</td>\n",
              "    </tr>\n",
              "    <tr>\n",
              "      <th>1</th>\n",
              "      <td>Movie</td>\n",
              "      <td>7:19</td>\n",
              "      <td>Jorge Michel Grau</td>\n",
              "      <td>Demián Bichir, Héctor Bonilla, Oscar Serrano, ...</td>\n",
              "      <td>Mexico</td>\n",
              "      <td>TV-MA</td>\n",
              "      <td>Dramas, International Movies</td>\n",
              "      <td>After a devastating earthquake hits Mexico Cit...</td>\n",
              "    </tr>\n",
              "    <tr>\n",
              "      <th>2</th>\n",
              "      <td>Movie</td>\n",
              "      <td>23:59</td>\n",
              "      <td>Gilbert Chan</td>\n",
              "      <td>Tedd Chan, Stella Chung, Henley Hii, Lawrence ...</td>\n",
              "      <td>Singapore</td>\n",
              "      <td>R</td>\n",
              "      <td>Horror Movies, International Movies</td>\n",
              "      <td>When an army recruit is found dead, his fellow...</td>\n",
              "    </tr>\n",
              "    <tr>\n",
              "      <th>3</th>\n",
              "      <td>Movie</td>\n",
              "      <td>9</td>\n",
              "      <td>Shane Acker</td>\n",
              "      <td>Elijah Wood, John C. Reilly, Jennifer Connelly...</td>\n",
              "      <td>United States</td>\n",
              "      <td>PG-13</td>\n",
              "      <td>Action &amp; Adventure, Independent Movies, Sci-Fi...</td>\n",
              "      <td>In a postapocalyptic world, rag-doll robots hi...</td>\n",
              "    </tr>\n",
              "    <tr>\n",
              "      <th>4</th>\n",
              "      <td>Movie</td>\n",
              "      <td>21</td>\n",
              "      <td>Robert Luketic</td>\n",
              "      <td>Jim Sturgess, Kevin Spacey, Kate Bosworth, Aar...</td>\n",
              "      <td>United States</td>\n",
              "      <td>PG-13</td>\n",
              "      <td>Dramas</td>\n",
              "      <td>A brilliant group of students become card-coun...</td>\n",
              "    </tr>\n",
              "  </tbody>\n",
              "</table>\n",
              "</div>\n",
              "      <button class=\"colab-df-convert\" onclick=\"convertToInteractive('df-a7bcb20b-ab61-4af6-9810-ef79c2ddace6')\"\n",
              "              title=\"Convert this dataframe to an interactive table.\"\n",
              "              style=\"display:none;\">\n",
              "        \n",
              "  <svg xmlns=\"http://www.w3.org/2000/svg\" height=\"24px\"viewBox=\"0 0 24 24\"\n",
              "       width=\"24px\">\n",
              "    <path d=\"M0 0h24v24H0V0z\" fill=\"none\"/>\n",
              "    <path d=\"M18.56 5.44l.94 2.06.94-2.06 2.06-.94-2.06-.94-.94-2.06-.94 2.06-2.06.94zm-11 1L8.5 8.5l.94-2.06 2.06-.94-2.06-.94L8.5 2.5l-.94 2.06-2.06.94zm10 10l.94 2.06.94-2.06 2.06-.94-2.06-.94-.94-2.06-.94 2.06-2.06.94z\"/><path d=\"M17.41 7.96l-1.37-1.37c-.4-.4-.92-.59-1.43-.59-.52 0-1.04.2-1.43.59L10.3 9.45l-7.72 7.72c-.78.78-.78 2.05 0 2.83L4 21.41c.39.39.9.59 1.41.59.51 0 1.02-.2 1.41-.59l7.78-7.78 2.81-2.81c.8-.78.8-2.07 0-2.86zM5.41 20L4 18.59l7.72-7.72 1.47 1.35L5.41 20z\"/>\n",
              "  </svg>\n",
              "      </button>\n",
              "      \n",
              "  <style>\n",
              "    .colab-df-container {\n",
              "      display:flex;\n",
              "      flex-wrap:wrap;\n",
              "      gap: 12px;\n",
              "    }\n",
              "\n",
              "    .colab-df-convert {\n",
              "      background-color: #E8F0FE;\n",
              "      border: none;\n",
              "      border-radius: 50%;\n",
              "      cursor: pointer;\n",
              "      display: none;\n",
              "      fill: #1967D2;\n",
              "      height: 32px;\n",
              "      padding: 0 0 0 0;\n",
              "      width: 32px;\n",
              "    }\n",
              "\n",
              "    .colab-df-convert:hover {\n",
              "      background-color: #E2EBFA;\n",
              "      box-shadow: 0px 1px 2px rgba(60, 64, 67, 0.3), 0px 1px 3px 1px rgba(60, 64, 67, 0.15);\n",
              "      fill: #174EA6;\n",
              "    }\n",
              "\n",
              "    [theme=dark] .colab-df-convert {\n",
              "      background-color: #3B4455;\n",
              "      fill: #D2E3FC;\n",
              "    }\n",
              "\n",
              "    [theme=dark] .colab-df-convert:hover {\n",
              "      background-color: #434B5C;\n",
              "      box-shadow: 0px 1px 3px 1px rgba(0, 0, 0, 0.15);\n",
              "      filter: drop-shadow(0px 1px 2px rgba(0, 0, 0, 0.3));\n",
              "      fill: #FFFFFF;\n",
              "    }\n",
              "  </style>\n",
              "\n",
              "      <script>\n",
              "        const buttonEl =\n",
              "          document.querySelector('#df-a7bcb20b-ab61-4af6-9810-ef79c2ddace6 button.colab-df-convert');\n",
              "        buttonEl.style.display =\n",
              "          google.colab.kernel.accessAllowed ? 'block' : 'none';\n",
              "\n",
              "        async function convertToInteractive(key) {\n",
              "          const element = document.querySelector('#df-a7bcb20b-ab61-4af6-9810-ef79c2ddace6');\n",
              "          const dataTable =\n",
              "            await google.colab.kernel.invokeFunction('convertToInteractive',\n",
              "                                                     [key], {});\n",
              "          if (!dataTable) return;\n",
              "\n",
              "          const docLinkHtml = 'Like what you see? Visit the ' +\n",
              "            '<a target=\"_blank\" href=https://colab.research.google.com/notebooks/data_table.ipynb>data table notebook</a>'\n",
              "            + ' to learn more about interactive tables.';\n",
              "          element.innerHTML = '';\n",
              "          dataTable['output_type'] = 'display_data';\n",
              "          await google.colab.output.renderOutput(dataTable, element);\n",
              "          const docLink = document.createElement('div');\n",
              "          docLink.innerHTML = docLinkHtml;\n",
              "          element.appendChild(docLink);\n",
              "        }\n",
              "      </script>\n",
              "    </div>\n",
              "  </div>\n",
              "  "
            ]
          },
          "metadata": {},
          "execution_count": 207
        }
      ],
      "source": [
        "netflix = pd.read_csv('/content/drive/MyDrive/NETFLIX MOVIES AND TV SHOWS CLUSTERING.csv').drop(['show_id','date_added','release_year','duration'], axis=1)\n",
        "netflix_df = netflix.copy()\n",
        "netflix_df.head()\n"
      ]
    },
    {
      "cell_type": "markdown",
      "metadata": {
        "id": "ptjca5zycVCH"
      },
      "source": [
        "#**Natural Language Processing (NLP) Model**\n",
        "* For the NLP portion of this project, I will first convert all plot descriptions to word vectors so they can be processed by the NLP model. Then, the similarity between all word vectors will be calculated using cosine similarity (measures the angle between two vectors, resulting in a score between -1 and 1, corresponding to complete oppositses or perfectly similar vectors). Finally, I will extract the 5 movies or TV shows with the most similar plot description to a given movie or TV show."
      ]
    },
    {
      "cell_type": "code",
      "execution_count": 208,
      "metadata": {
        "id": "R_VqGN3LO07-",
        "colab": {
          "base_uri": "https://localhost:8080/"
        },
        "outputId": "4e59c37b-bfae-488a-a47e-d663b8501bd8"
      },
      "outputs": [
        {
          "output_type": "stream",
          "name": "stdout",
          "text": [
            "Looking in indexes: https://pypi.org/simple, https://us-python.pkg.dev/colab-wheels/public/simple/\n",
            "Requirement already satisfied: matplotlib-venn in /usr/local/lib/python3.7/dist-packages (0.11.7)\n",
            "Requirement already satisfied: numpy in /usr/local/lib/python3.7/dist-packages (from matplotlib-venn) (1.21.6)\n",
            "Requirement already satisfied: matplotlib in /usr/local/lib/python3.7/dist-packages (from matplotlib-venn) (3.2.2)\n",
            "Requirement already satisfied: scipy in /usr/local/lib/python3.7/dist-packages (from matplotlib-venn) (1.7.3)\n",
            "Requirement already satisfied: kiwisolver>=1.0.1 in /usr/local/lib/python3.7/dist-packages (from matplotlib->matplotlib-venn) (1.4.4)\n",
            "Requirement already satisfied: python-dateutil>=2.1 in /usr/local/lib/python3.7/dist-packages (from matplotlib->matplotlib-venn) (2.8.2)\n",
            "Requirement already satisfied: pyparsing!=2.0.4,!=2.1.2,!=2.1.6,>=2.0.1 in /usr/local/lib/python3.7/dist-packages (from matplotlib->matplotlib-venn) (3.0.9)\n",
            "Requirement already satisfied: cycler>=0.10 in /usr/local/lib/python3.7/dist-packages (from matplotlib->matplotlib-venn) (0.11.0)\n",
            "Requirement already satisfied: typing-extensions in /usr/local/lib/python3.7/dist-packages (from kiwisolver>=1.0.1->matplotlib->matplotlib-venn) (4.1.1)\n",
            "Requirement already satisfied: six>=1.5 in /usr/local/lib/python3.7/dist-packages (from python-dateutil>=2.1->matplotlib->matplotlib-venn) (1.15.0)\n"
          ]
        }
      ],
      "source": [
        "!pip install matplotlib-venn\n",
        "import en_core_web_lg\n",
        "nlp = en_core_web_lg.load()"
      ]
    },
    {
      "cell_type": "code",
      "execution_count": 209,
      "metadata": {
        "id": "Qp87HgCFPBXy",
        "colab": {
          "base_uri": "https://localhost:8080/"
        },
        "outputId": "cdcc5f22-4f0e-4004-9d3d-b58e454deffc"
      },
      "outputs": [
        {
          "output_type": "stream",
          "name": "stdout",
          "text": [
            "/bin/bash: -c: line 0: syntax error near unexpected token `('\n",
            "/bin/bash: -c: line 0: `nlp = spacy.load('en_core_web_lg')'\n"
          ]
        }
      ],
      "source": [
        "# Load the large model to get the vectors\n",
        "!nlp = spacy.load('en_core_web_lg')\n"
      ]
    },
    {
      "cell_type": "code",
      "execution_count": 210,
      "metadata": {
        "id": "DAwbUjm9PK9k"
      },
      "outputs": [],
      "source": [
        "# Create word vectors for all movie and TV show descriptions\n",
        "with nlp.disable_pipes():\n",
        "    vectors = np.array([nlp(film.description).vector for idx, film in netflix_df.iterrows()])"
      ]
    },
    {
      "cell_type": "code",
      "execution_count": 211,
      "metadata": {
        "id": "TektIWqeRAaS"
      },
      "outputs": [],
      "source": [
        "# Function to analyze how similar two word vectors are\n",
        "def cosine_similarity(a, b):\n",
        "    return np.dot(a, b)/np.sqrt(a.dot(a)*b.dot(b))"
      ]
    },
    {
      "cell_type": "code",
      "execution_count": 212,
      "metadata": {
        "id": "OS47erCPRFt4"
      },
      "outputs": [],
      "source": [
        "# Calculate the mean for all word vectors\n",
        "vec_mean = vectors.mean(axis=0)\n",
        "\n",
        "# Subtract the mean from the vectors\n",
        "centered = vectors - vec_mean"
      ]
    },
    {
      "cell_type": "code",
      "execution_count": 213,
      "metadata": {
        "id": "Hr3YM8IDTlU0"
      },
      "outputs": [],
      "source": [
        "# Function to get the indices of the five most similar descriptions\n",
        "def get_similar_description_indices(description_vec):\n",
        "    \n",
        "    # Calculate similarities between given description and other descriptions in the dataset\n",
        "    sims = np.array([cosine_similarity(description_vec - vec_mean, vec) for vec in centered])\n",
        "    \n",
        "    # Get the indices of the five most similar descriptions\n",
        "    most_similar_index = np.argsort(sims)[-6:-1]\n",
        "    \n",
        "    return most_similar_index\n"
      ]
    },
    {
      "cell_type": "code",
      "execution_count": 214,
      "metadata": {
        "id": "SntWB-6QTvRT"
      },
      "outputs": [],
      "source": [
        "# Create array of lists containing indices of five most similar descriptions\n",
        "similar_indices = np.array([get_similar_description_indices(vec) for vec in vectors])\n"
      ]
    },
    {
      "cell_type": "markdown",
      "metadata": {
        "id": "kmTiPXhXcHax"
      },
      "source": [
        "#**Test NLP Model**\n",
        "To test my NLP model, I will look at the most similar plot descriptions to one of my favourite movies, Catch Me If You Can, directed by Steven Spielberg and starring Leonardo DiCaprio and Tom Hanks."
      ]
    },
    {
      "cell_type": "code",
      "execution_count": null,
      "metadata": {
        "id": "bWpko3TGT24N"
      },
      "outputs": [],
      "source": [
        "test_index = netflix.index[netflix.title == \"Catch Me If You Can\"][0]\n",
        "\n",
        "print(\"Chosen Movie/TV Show\")\n",
        "print(netflix_df.title[test_index] + ': ' + netflix_df.description[test_index] + '\\n')\n",
        "print(\"Top Recommendations\")\n",
        "print(netflix_df.title[similar_indices[test_index][4]] + ': ' + netflix_df.description[similar_indices[test_index][4]] + '\\n')\n",
        "print(netflix_df.title[similar_indices[test_index][3]] + ': ' + netflix_df.description[similar_indices[test_index][3]] + '\\n')\n",
        "print(netflix_df.title[similar_indices[test_index][2]] + ': ' + netflix_df.description[similar_indices[test_index][2]] + '\\n')\n",
        "print(netflix_df.title[similar_indices[test_index][1]] + ': ' + netflix_df.description[similar_indices[test_index][1]] + '\\n')\n",
        "print(netflix_df.title[similar_indices[test_index][0]] + ': ' + netflix_df.description[similar_indices[test_index][0]] + '\\n')"
      ]
    },
    {
      "cell_type": "markdown",
      "metadata": {
        "id": "-pfV9V6lbGZe"
      },
      "source": [
        "#**K-Means Clustering Model**\n",
        "Prior to creating the k-means clustering model, I will perform the following data cleaning and feature engineering tasks:\n",
        "\n",
        "* Fill missing values with most common entry for the column (ex. fill missing country entries as 'United States').\n",
        "* Convert columns with multiple values in a cell to a list and only take the first value (ex. take only the lead actor or actress from each cast list).\n",
        "* Encode all categorical variables.\n",
        "\n"
      ]
    },
    {
      "cell_type": "markdown",
      "metadata": {
        "id": "0g1O6iM7bhYT"
      },
      "source": [
        "#**DATA CLEANING**"
      ]
    },
    {
      "cell_type": "code",
      "execution_count": null,
      "metadata": {
        "id": "o8VIUkXMT9y-"
      },
      "outputs": [],
      "source": [
        "# Fill missing country entries with United States\n",
        "netflix_df.fillna('Other', inplace=True)\n",
        "\n",
        "# Change director, cast, country, and listed_in columns from type str to lists\n",
        "netflix_df.director = netflix_df.director.str.split(', ').tolist()\n",
        "netflix_df.cast = netflix_df.cast.str.split(', ').tolist()\n",
        "netflix_df.country = netflix_df.country.str.split(', ').tolist()\n",
        "netflix_df.listed_in = netflix_df.listed_in.str.split(', ').tolist()"
      ]
    },
    {
      "cell_type": "markdown",
      "metadata": {
        "id": "0hdPfCnKa1nE"
      },
      "source": [
        "#**Feature Reduction**"
      ]
    },
    {
      "cell_type": "code",
      "execution_count": null,
      "metadata": {
        "id": "kTnPocH1UBqi"
      },
      "outputs": [],
      "source": [
        "# Array of all unique directors, cast members, countries, ratings, and genres\n",
        "all_directors = netflix_df['director'].explode().unique()\n",
        "all_cast = netflix_df['cast'].explode().unique()\n",
        "all_countries = netflix_df['country'].explode().unique()\n",
        "all_ratings = netflix_df['rating'].unique()\n",
        "all_genres = netflix_df['listed_in'].explode().unique()\n",
        "\n",
        "len(all_directors), len(all_cast), len(all_countries), len(all_ratings),len(all_genres)"
      ]
    },
    {
      "cell_type": "code",
      "execution_count": null,
      "metadata": {
        "id": "dE_ddwDQULAf"
      },
      "outputs": [],
      "source": [
        "all_titles = netflix_df['title'].unique().tolist()\n",
        "all_titles.sort()\n"
      ]
    },
    {
      "cell_type": "markdown",
      "metadata": {
        "id": "-Vr6092ja7bx"
      },
      "source": [
        "There are 4479 directors, 32882 actors / actresses, and 122 countries in the data set which are too many features to include in a K-Means clustering model. Thus, I will reduce the number of features by only taking the primary director, lead actor/actress, and primary country for each movie or TV show. Then, I will count encode each of these features by replacing each categorical value with the number of times it appears in the dataset.\n",
        "\n",
        "I will use one-hot encoding encoding to encode ratings and genres (listed_in) since there are only 15 ratings and 42 genres. One-hot-encoding creates new columns indicating the presence (1) or absence (0) of each possible value in the data. Since a movie or TV show can belong to more than one genre, I will use a Multi Label Binarizer for rating."
      ]
    },
    {
      "cell_type": "code",
      "execution_count": null,
      "metadata": {
        "id": "Et-_7WLTUTC7"
      },
      "outputs": [],
      "source": [
        "# Retain primary director, lead actor/actress, and primary country\n",
        "for inx in range(len(netflix_df)):\n",
        "    netflix_df['director'][inx] = netflix_df['director'][inx][0]\n",
        "    netflix_df['cast'][inx] = netflix_df['cast'][inx][0]\n",
        "    netflix_df['country'][inx] = netflix_df['country'][inx][0]\n",
        "    inx += 1\n"
      ]
    },
    {
      "cell_type": "code",
      "execution_count": null,
      "metadata": {
        "id": "HRrBwIyyUWVu"
      },
      "outputs": [],
      "source": [
        "feature_reduced_df = netflix_df.copy()\n",
        "feature_reduced_df.head()\n"
      ]
    },
    {
      "cell_type": "markdown",
      "metadata": {
        "id": "dq_5gay7apmG"
      },
      "source": [
        "#**Feature Engineering (Categorical Encoding)**\n",
        "* Use the MultiLabelBinarizer to encode the genres the movies or TV shows are listed in (each entry can belong to multiple genres).\n",
        "* One-hot encode rating.\n",
        "* Count encode the primary director, lead actor or actress, and country of each movie/TV show.\n"
      ]
    },
    {
      "cell_type": "code",
      "execution_count": null,
      "metadata": {
        "id": "7r3JdTSlUbWf"
      },
      "outputs": [],
      "source": [
        "# Create the MultiLabelBinarizer \n",
        "mlb = MultiLabelBinarizer()\n",
        "\n",
        "# Encode each genre and join to dataframe\n",
        "mlb_df = feature_reduced_df.join(pd.DataFrame(mlb.fit_transform(feature_reduced_df.pop('listed_in')),\n",
        "                                              columns=mlb.classes_,\n",
        "                                              index=feature_reduced_df.index))\n"
      ]
    },
    {
      "cell_type": "code",
      "execution_count": null,
      "metadata": {
        "id": "IbBdyXlhUeBW"
      },
      "outputs": [],
      "source": [
        "# Apply one-hot encoder to rating column\n",
        "OH_encoder = OneHotEncoder(handle_unknown='ignore', sparse=False)\n",
        "OH_rating = pd.DataFrame(OH_encoder.fit_transform(mlb_df[['rating']]), columns=all_ratings)\n",
        "\n",
        "# One-hot encoding removed index; put it back\n",
        "OH_rating.index = mlb_df.index\n",
        "\n",
        "# Add one-hot encoded columns to data frame\n",
        "mlb_df = mlb_df.join(OH_rating)\n"
      ]
    },
    {
      "cell_type": "code",
      "execution_count": null,
      "metadata": {
        "id": "V9BIlSowUkUW"
      },
      "outputs": [],
      "source": [
        "!pip install category_encoders"
      ]
    },
    {
      "cell_type": "code",
      "execution_count": null,
      "metadata": {
        "id": "oL41Ti0pUr7y"
      },
      "outputs": [],
      "source": [
        "import category_encoders as ce\n",
        "\n",
        "# Create the count encoder\n",
        "count_enc = ce.CountEncoder()\n",
        "\n",
        "# Count encode director, cast, and country columns\n",
        "count_encoded = count_enc.fit_transform(mlb_df[['director','cast','country']])\n",
        "\n",
        "# Rename the columns with the _count suffix, and join to dataframe\n",
        "netflix_encoded_df = mlb_df.join(count_encoded.add_suffix(\"_count\"))\n"
      ]
    },
    {
      "cell_type": "code",
      "execution_count": null,
      "metadata": {
        "id": "XOyjOusfVHLd"
      },
      "outputs": [],
      "source": [
        "netflix_encoded_df = netflix_encoded_df.drop(['type','title','director','cast','country','rating','description'], axis=1)\n",
        "netflix_encoded_df.head()"
      ]
    },
    {
      "cell_type": "markdown",
      "metadata": {
        "id": "eGkNvIQCaYIt"
      },
      "source": [
        "#**Create (K-Means) Clusters**\n",
        "I will create a k-means clustering model that will group the 7787 movies/TV shows into 500 clusters. After initializing the model, cluster predictions will be made and attached to the original data frame to show each movie/TV show and the cluster they belong to."
      ]
    },
    {
      "cell_type": "code",
      "execution_count": null,
      "metadata": {
        "id": "FfNsFGjEVRus"
      },
      "outputs": [],
      "source": [
        "# Create K-Means Model\n",
        "modelkmeans = KMeans(n_clusters=500, init='k-means++', n_init=10).fit(netflix_encoded_df)\n",
        "\n",
        "# Form cluster predictions using K-Means Model\n",
        "predictions = modelkmeans.predict(netflix_encoded_df)\n",
        "\n",
        "# Convert cluster predictions to data frame\n",
        "predictions_df = pd.DataFrame(predictions, columns=['cluster'])\n",
        "\n",
        "# Attach cluster predictions to original data frame\n",
        "netflix_pred = netflix.copy()\n",
        "netflix_pred.insert(len(netflix.columns), column = 'cluster', value = predictions_df.cluster)\n"
      ]
    },
    {
      "cell_type": "code",
      "execution_count": null,
      "metadata": {
        "id": "2x7Htm5MVV8v"
      },
      "outputs": [],
      "source": [
        "netflix_pred.head()"
      ]
    },
    {
      "cell_type": "markdown",
      "metadata": {
        "id": "QR-IkJ6baGiR"
      },
      "source": [
        "#**Test K-Means Clustering Model**\n",
        "I will test the k-means clustering model using one of my favourite TV shows, Breaking Bad.\n",
        "\n"
      ]
    },
    {
      "cell_type": "code",
      "execution_count": null,
      "metadata": {
        "id": "7u0kfJBDVeCj"
      },
      "outputs": [],
      "source": [
        "# Get cluster number from given movie or TV show\n",
        "cluster_num = netflix_pred[netflix_pred.title=='Breaking Bad'].cluster.item()\n",
        "\n",
        "# View cluster the movie or TV show belongs to\n",
        "netflix[netflix_pred.cluster == cluster_num]\n"
      ]
    },
    {
      "cell_type": "markdown",
      "metadata": {
        "id": "1dklB2x5Z-8x"
      },
      "source": [
        "* As you can see, this cluster primarily contains American Crime TV Shows and TV Dramas."
      ]
    },
    {
      "cell_type": "markdown",
      "metadata": {
        "id": "J28wP2FcZxdF"
      },
      "source": [
        "#**Flask App**\n",
        "* Finally, I will create a Flask app that will allow users to input a movie or TV show and will provide recommendations based on the director, lead actor/actress, genre, and country it was produced in. Prior to creating the app, I will clean the data and reformat it.\n",
        "\n"
      ]
    },
    {
      "cell_type": "code",
      "execution_count": null,
      "metadata": {
        "id": "VgdtdCrWVm-D"
      },
      "outputs": [],
      "source": [
        "# Retain top 3 actors/actresses of each film\n",
        "netflix_cast3 = netflix.copy()\n",
        "netflix_cast3.fillna('N/A', inplace=True)\n",
        "netflix_cast3.cast = netflix_cast3.cast.str.split(', ').tolist()\n",
        "\n",
        "for x in range(len(netflix_cast3)):\n",
        "    netflix_cast3['cast'][x] = netflix_cast3['cast'][x][:3]\n",
        "    x += 1\n",
        "    \n",
        "netflix_cast3['cast'] = netflix_cast3['cast'].agg(lambda x: ', '.join(map(str, x)))\n"
      ]
    },
    {
      "cell_type": "code",
      "execution_count": null,
      "metadata": {
        "id": "ayhxLd_TVxBY"
      },
      "outputs": [],
      "source": [
        "# Drop unnecessary columns\n",
        "drop_netflix = netflix_cast3.drop(['type','director','country','rating'], axis=1)\n",
        "\n",
        "# Rename remaining columns\n",
        "flix_df = drop_netflix.rename(columns={'title':'Title','listed_in':'Genre','cast':'Cast','description':'Description', \n",
        "                                       'cluster':'Group'})\n",
        "\n",
        "flix_df\n"
      ]
    },
    {
      "cell_type": "code",
      "execution_count": null,
      "metadata": {
        "id": "zJP-UtvEV2PB"
      },
      "outputs": [],
      "source": [
        "!pip install dash"
      ]
    },
    {
      "cell_type": "code",
      "execution_count": null,
      "metadata": {
        "id": "ESugO6zKV8ar"
      },
      "outputs": [],
      "source": [
        "!pip install jupyter-dash"
      ]
    },
    {
      "cell_type": "code",
      "execution_count": null,
      "metadata": {
        "id": "4h-9ExhGWDI0"
      },
      "outputs": [],
      "source": [
        "import dash\n",
        "from dash import dcc\n",
        "from dash import html\n",
        "from dash.dependencies import Input, Output\n",
        "from dash import dash_table\n",
        "from jupyter_dash import JupyterDash"
      ]
    },
    {
      "cell_type": "code",
      "execution_count": null,
      "metadata": {
        "id": "bnWwvDPPWP2R"
      },
      "outputs": [],
      "source": [
        "external_stylesheets = ['https://codepen.io/chriddyp/pen/bWLwgP.css']\n",
        "\n",
        "app = JupyterDash(__name__, external_stylesheets=external_stylesheets)\n",
        "\n",
        "# Create server variable with Flask server object for use with gunicorn\n",
        "server = app.server\n",
        "\n",
        "app.layout = html.Div(style={'backgroundColor': 'white'}, children = [\n",
        "    html.H1(\"NetflixRecommender\", style={'text-align': 'center', \n",
        "                                      'font-family':'trebuchet ms',\n",
        "                                      'font-size':'60px',\n",
        "                                      'color': 'rgb(229,9,20)',\n",
        "                                      'backgroundColor': 'black',\n",
        "                                      'padding':'1%',\n",
        "                                      'box-shadow': '2px 5px 5px 1px rgba(255, 101, 131,0.5)'}), \n",
        "    html.H2(\"Favourite Movie/TV Show:\", style={'text-align': 'left', \n",
        "                                               'font-family':'trebuchet ms',\n",
        "                                               'font-size':'20px',\n",
        "                                               'color': 'black',\n",
        "                                               'padding':'1%'}),\n",
        "    dcc.Dropdown(id=\"select_film\",\n",
        "                 options=[{\"label\": title, \"value\": title} for title in all_titles],\n",
        "                 multi=False,\n",
        "                 value=\"Breaking Bad\",\n",
        "                 style={'width': \"50%\", \n",
        "                        'font-size':'14px', \n",
        "                        'font-family':'trebuchet ms', \n",
        "                        'padding-left':'1%'}\n",
        "                 ),\n",
        "    html.Br(),\n",
        "    html.Br(),\n",
        "    html.H2(\"Recommendations\", style={'text-align': 'center', \n",
        "                                       'font-family':'trebuchet ms',\n",
        "                                       'font-size':'24px',\n",
        "                                       'color': 'white',\n",
        "                                       'backgroundColor': 'rgb(229,9,20)',\n",
        "                                       'padding':'1%',\n",
        "                                       'box-shadow': '2px 5px 5px 1px grey'}),\n",
        "    html.Div(id='dd-output-container'),\n",
        "    \n",
        "])\n",
        "\n",
        "\n",
        "@app.callback(\n",
        "    dash.dependencies.Output('dd-output-container','children'),\n",
        "    [dash.dependencies.Input('select_film','value')])\n",
        "\n",
        "def update_output(value):\n",
        "    return  dash_table.DataTable(\n",
        "        id='table',\n",
        "        columns=[{\"name\": i, \"id\": i} for i in flix_df.columns],\n",
        "        data=flix_df[netflix_pred.cluster == netflix_pred[netflix_pred.title==value].cluster.item()].to_dict('records'),\n",
        "        style_header={\n",
        "                    'textAlign': 'left',\n",
        "                    'backgroundColor': 'rgb(229,9,20)',\n",
        "                    'color': 'white',\n",
        "                    'fontWeight': 'bold',\n",
        "                    'font-size':'14px',\n",
        "                    'font-family':'trebuchet ms',\n",
        "                    'padding':'1%'},\n",
        "        style_cell={\n",
        "                    'textAlign': 'left',\n",
        "                    'backgroundColor': 'white', \n",
        "                    'color': 'black',\n",
        "                    'font-size':'13px',\n",
        "                    'font-family':'trebuchet ms',\n",
        "                    'padding':'1%'},\n",
        "        style_data={\n",
        "                    'whiteSpace': 'normal',\n",
        "                    'height': 'auto'},\n",
        "        style_cell_conditional=[\n",
        "            {'if': {'column_id': 'Title'},\n",
        "             'width': '20%'},\n",
        "            {'if': {'column_id': 'Cast'},\n",
        "             'width': '20%'},\n",
        "            {'if': {'column_id': 'Genre'},\n",
        "             'width': '20%'},\n",
        "             {'if': {'column_id': 'Description'},\n",
        "             'width': '20%'},\n",
        "        ]\n",
        "    )\n",
        "# Run dashboard app\n",
        "app.run_server(debug=True, use_reloader=False)"
      ]
    },
    {
      "cell_type": "code",
      "execution_count": null,
      "metadata": {
        "id": "xU5y83VdWXEg"
      },
      "outputs": [],
      "source": [
        "Flix_df=pd.read_csv('/content/drive/MyDrive/NETFLIX MOVIES AND TV SHOWS CLUSTERING.csv')\n"
      ]
    },
    {
      "cell_type": "markdown",
      "metadata": {
        "id": "2MZ2dHKWYhLW"
      },
      "source": [
        "#**Exploratory Data Analysis (EDA)**"
      ]
    },
    {
      "cell_type": "code",
      "execution_count": null,
      "metadata": {
        "id": "48fbE9Z8W1vK"
      },
      "outputs": [],
      "source": [
        "Flix_df.head()"
      ]
    },
    {
      "cell_type": "code",
      "execution_count": null,
      "metadata": {
        "id": "ch_DrBDyW9mS"
      },
      "outputs": [],
      "source": [
        "Flix_df.shape"
      ]
    },
    {
      "cell_type": "code",
      "execution_count": null,
      "metadata": {
        "id": "YQW_JpiYXABP"
      },
      "outputs": [],
      "source": [
        "Flix_df.columns"
      ]
    },
    {
      "cell_type": "code",
      "execution_count": null,
      "metadata": {
        "id": "0EDeneQdXDtc"
      },
      "outputs": [],
      "source": [
        "Flix_df['type'].value_counts()"
      ]
    },
    {
      "cell_type": "code",
      "execution_count": null,
      "metadata": {
        "id": "oWkqPHpkXHeq"
      },
      "outputs": [],
      "source": [
        "Flix_df.info()"
      ]
    },
    {
      "cell_type": "markdown",
      "metadata": {
        "id": "4paj_S24YXec"
      },
      "source": [
        "#**NULL VALUES**"
      ]
    },
    {
      "cell_type": "code",
      "execution_count": null,
      "metadata": {
        "id": "5BSSV01VXL4b"
      },
      "outputs": [],
      "source": [
        "Flix_df.isnull().sum()/Flix_df.shape[0]*100"
      ]
    },
    {
      "cell_type": "code",
      "execution_count": null,
      "metadata": {
        "id": "wobQc8qgXTto"
      },
      "outputs": [],
      "source": [
        "Flix_df['rating'].value_counts()"
      ]
    },
    {
      "cell_type": "code",
      "execution_count": null,
      "metadata": {
        "id": "PF6oBX30XXLs"
      },
      "outputs": [],
      "source": [
        "Flix_df['country'].value_counts()"
      ]
    },
    {
      "cell_type": "code",
      "execution_count": null,
      "metadata": {
        "id": "v8aWYpJSXeQc"
      },
      "outputs": [],
      "source": [
        "Flix_df['rating'].replace(np.nan, 'TV-MA',inplace  = True)\n",
        "Flix_df['country'].replace(np.nan, 'United States',inplace  = True)\n",
        "Flix_df['cast'].replace(np.nan, 'missing info',inplace  = True)\n",
        "\n",
        "Flix_df= Flix_df.drop(columns='director',axis=1)"
      ]
    },
    {
      "cell_type": "code",
      "execution_count": null,
      "metadata": {
        "id": "bf0-hZCkXkUA"
      },
      "outputs": [],
      "source": [
        "flix_df.head()"
      ]
    },
    {
      "cell_type": "code",
      "execution_count": null,
      "metadata": {
        "id": "voaxBBYBXppC"
      },
      "outputs": [],
      "source": [
        "Flix_df = Flix_df[Flix_df['date_added'].notna()]"
      ]
    },
    {
      "cell_type": "code",
      "execution_count": null,
      "metadata": {
        "id": "OalSwFziXs9d"
      },
      "outputs": [],
      "source": [
        "Flix_df.isnull().sum()"
      ]
    },
    {
      "cell_type": "markdown",
      "metadata": {
        "id": "6K00TWUaYAO1"
      },
      "source": [
        "#NULL VALUE TREATMENT\n",
        "\n",
        "1. RATING & COUNTRY - As rating column has 0.08% null values , so replacing nulls with mose frequent TV-MA rating and doing same thing with country column\n",
        "\n",
        "2. CAST - cast column has too many different values and more than 9% are missing, so there is no need to keep it but we are keeping it to perform EDA\n",
        "\n",
        "3. DATE - there are few missing values for date column. so, lets drop missing value rows.\n",
        "\n",
        "4. DIRECTOR - Director column has more then 30% null values so dropping that column"
      ]
    },
    {
      "cell_type": "code",
      "execution_count": null,
      "metadata": {
        "id": "YK272E_3X3E2"
      },
      "outputs": [],
      "source": [
        "# add new features\n",
        "Flix_df[\"date_added\"] = pd.to_datetime(Flix_df['date_added'])\n",
        "Flix_df['year_added'] = Flix_df['date_added'].dt.year\n",
        "Flix_df['month_added'] = Flix_df['date_added'].dt.month\n"
      ]
    },
    {
      "cell_type": "markdown",
      "metadata": {
        "id": "R2rRv1aLXyN9"
      },
      "source": [
        "#**Analyze the type of content available on Netflix**\n",
        "* Analysis entire Netflix dataset consisting of both movies and shows. Let’s compare the total number of movies and shows in this dataset to know which one is the majority.\n",
        "\n",
        "* Netflix Content By Type\n",
        "\n"
      ]
    },
    {
      "cell_type": "code",
      "execution_count": null,
      "metadata": {
        "id": "2gEbPHKyX5lb"
      },
      "outputs": [],
      "source": [
        "# ploting for pie chart on type feature\n",
        "# import plotly.express as px\n",
        "x = Flix_df['type'].value_counts().reset_index()\n",
        "colors=['DodgerBlue','PaleTurquoise']\n",
        "fig = px.pie(x,title='Type of Netflix Content',values='type',names='index',color_discrete_sequence=px.colors.sequential.RdBu)\n",
        "fig.update_traces(textposition='inside', textinfo='percent+label', textfont_size=20,\n",
        "              marker=dict(colors=colors, line=dict(color='#000000', width=2)))\n"
      ]
    },
    {
      "cell_type": "markdown",
      "metadata": {
        "id": "MVNN0WpOXnxT"
      },
      "source": [
        "#Observations :-\n",
        "\n",
        "* It is evident that there are more movies on Netflix than TV shows.\n",
        "Netflix has 5377 movies, which is more than double the quantity of TV shows.\n",
        "There are about 70% movies and 30% TV shows on Netflix."
      ]
    },
    {
      "cell_type": "code",
      "execution_count": null,
      "metadata": {
        "id": "4i2ZV15RYiay"
      },
      "outputs": [],
      "source": [
        "country = Flix_df['country'].value_counts().reset_index()\n",
        "country = country[country['country'] /  country['country'].sum() > 0.01]\n",
        "\n",
        "fig = px.pie(country, values='country', names='index',color_discrete_sequence=px.colors.sequential.Plasma_r)\n",
        "fig.update_traces(textposition='inside', textinfo='percent+label',\n",
        "                  marker = dict(line = dict(color = 'darkred', width = 2)))\n",
        "fig.show()"
      ]
    },
    {
      "cell_type": "code",
      "execution_count": null,
      "metadata": {
        "id": "018w0a11YywN"
      },
      "outputs": [],
      "source": [
        "# Total release for last 10 years\n",
        "sns.set(rc={'figure.figsize':(15,7)})\n",
        "sns.countplot(x='year_added',data=Flix_df,palette=\"Set1\")\n",
        "\n",
        "plt.title('Total Releases for Last 10 Years ',size='15',fontweight=\"bold\")    \n",
        "plt.show()\n"
      ]
    },
    {
      "cell_type": "markdown",
      "metadata": {
        "id": "kDMNEpIvXb3-"
      },
      "source": [
        "* The number of release have significantly increased after 2015 and have dropped in 2021 becase of Covid 19\n",
        "\n"
      ]
    },
    {
      "cell_type": "code",
      "execution_count": null,
      "metadata": {
        "id": "I5TxYJJ2Y1c5"
      },
      "outputs": [],
      "source": [
        "# Release of movies month-wise\n",
        "sns.set(rc={'figure.figsize':(15,9)})\n",
        "sns.countplot(x='month_added',data=Flix_df,palette=\"Accent\")\n",
        "\n",
        "plt.title(' Releases of Movies month-wise',size='16',fontweight=\"bold\")    \n",
        "plt.show()\n"
      ]
    },
    {
      "cell_type": "markdown",
      "metadata": {
        "id": "nDhScv1EXSmW"
      },
      "source": [
        "**More of the content is released in holiday season - October, November, December and January**\n",
        "\n"
      ]
    },
    {
      "cell_type": "code",
      "execution_count": null,
      "metadata": {
        "id": "OF0ldCzVY_dP"
      },
      "outputs": [],
      "source": [
        "# Rating\n",
        "plt.figure(figsize=(18,8))\n",
        "sns.countplot(x='rating',hue='type',data=Flix_df,palette=\"CMRmap\")\n",
        "plt.title(' Type and rating',size='16',fontweight=\"bold\")\n",
        "plt.show()\n"
      ]
    },
    {
      "cell_type": "markdown",
      "metadata": {
        "id": "JuqastIjXEhz"
      },
      "source": [
        "Top Genres on Netflix"
      ]
    },
    {
      "cell_type": "code",
      "execution_count": null,
      "metadata": {
        "id": "CsiqCKElZUGw"
      },
      "outputs": [],
      "source": [
        "# Top 10 Genre in movies\n",
        "plt.figure(figsize=(18,6))\n",
        "sns.barplot(x = Flix_df[\"listed_in\"].value_counts().head(15).index,\n",
        "            y = Flix_df[\"listed_in\"].value_counts().head(15).values,palette=\"hsv\")\n",
        "plt.xticks(rotation=80)\n",
        "plt.title(\"Top10 Genre in Movies\",size='16',fontweight=\"bold\")\n",
        "plt.show()"
      ]
    },
    {
      "cell_type": "markdown",
      "metadata": {
        "id": "U4fIbN62W5Oo"
      },
      "source": [
        "* From the graph, we know that Documentaries take the first place, followed by Stand-up Comedy and Dramas,International Movies."
      ]
    },
    {
      "cell_type": "code",
      "execution_count": null,
      "metadata": {
        "id": "xHfY59NaZaHA"
      },
      "outputs": [],
      "source": [
        "# Top 20 actors netflix\n",
        "Flix_df['cast_name'] = Flix_df['cast'].apply(lambda x :  x.split(',')) \n",
        "cast_count = []\n",
        "for i in Flix_df['cast_name']: cast_count += i\n",
        "cast_dict = dict((i, cast_count.count(i)) for i in cast_count)\n",
        "df_cast_count = pd.DataFrame(cast_dict.values(),cast_dict.keys()).reset_index().sort_values(0,ascending=False).rename(\n",
        "    columns = {'index' : 'cast_name', 0 : 'count'}).iloc[1:21]\n",
        "plt.figure(figsize=(15,5))\n",
        "sns.barplot(x='cast_name',y='count',data=df_cast_count,palette=\"Dark2\")\n",
        "plt.title(\"Top-20 ACTORS on Netflix\",size='16',fontweight=\"bold\")\n",
        "plt.xticks(rotation=90)\n",
        "plt.show()"
      ]
    },
    {
      "cell_type": "markdown",
      "metadata": {
        "id": "X7UOOWkTV-IO"
      },
      "source": [
        "* The top actor on Netflix Movies, based on the number of titles, is Anupam Kher."
      ]
    },
    {
      "cell_type": "code",
      "execution_count": null,
      "metadata": {
        "id": "IRCpDnj7ZeQ2"
      },
      "outputs": [],
      "source": [
        "Flix_df.info()"
      ]
    },
    {
      "cell_type": "code",
      "execution_count": null,
      "metadata": {
        "id": "uV-C_nRQZjEX"
      },
      "outputs": [],
      "source": [
        "Flix_df['duration']=Flix_df['duration'].str.replace('Season','')\n",
        "Flix_df['duration']=Flix_df['duration'].str.replace('s','')\n",
        "Flix_df['duration']=Flix_df['duration'].str.replace('min','')\n",
        "\n",
        "Flix_df['duration']=Flix_df['duration'].astype(str).astype(int)\n",
        "Flix_df['duration']"
      ]
    },
    {
      "cell_type": "code",
      "execution_count": null,
      "metadata": {
        "id": "xEhAFwMtZoJx"
      },
      "outputs": [],
      "source": [
        "# Length distribution of movies\n",
        "movie_df = Flix_df[Flix_df['type']=='Movie']\n",
        "\n",
        "plt.figure(figsize=(14, 7))\n",
        "\n",
        "sns.distplot(movie_df['duration'], bins=30,color='Blue').set(ylabel=None)\n",
        "\n",
        "plt.title('Length distribution of movies', fontsize=16,fontweight=\"bold\")\n",
        "plt.xlabel('Duration', fontsize=14)\n",
        "plt.show()\n"
      ]
    },
    {
      "cell_type": "code",
      "execution_count": null,
      "metadata": {
        "id": "AYamInNrZuvO"
      },
      "outputs": [],
      "source": [
        "# Season-wise distribution of tv shows\n",
        "tv_df = Flix_df[Flix_df['type']=='TV Show']\n",
        "tv_df['duration'].value_counts()\n",
        "\n",
        "tv=tv_df['duration'].value_counts().T.reset_index()\n",
        "\n",
        "fig = px.pie(tv,values='duration',names='index',color_discrete_sequence=px.colors.sequential.Greens)\n",
        "fig.update_layout(title=\"season-wise distribution of tv shows\")\n",
        "fig.update_traces(textposition='inside', textinfo='percent+label', textfont_size=20,\n",
        "                  marker=dict( line=dict(color = 'RebeccaPurple', width=2)))\n"
      ]
    },
    {
      "cell_type": "markdown",
      "metadata": {
        "id": "c6_yTY_tVCs2"
      },
      "source": [
        "**LONGEST TV - SHOWS**\n",
        "\n"
      ]
    },
    {
      "cell_type": "code",
      "execution_count": null,
      "metadata": {
        "id": "mIOnqzBnZ0s3"
      },
      "outputs": [],
      "source": [
        "long_shows = tv_df[tv_df['duration']>9]\n",
        "long_shows_df = long_shows[['title','duration']]\n",
        "long_shows_df.sort_values(by=['duration'],ascending=False)"
      ]
    },
    {
      "cell_type": "markdown",
      "metadata": {
        "id": "2H0Fie1GU6Qt"
      },
      "source": [
        "#**DATA CLEANING AND PREPROCESSING**"
      ]
    },
    {
      "cell_type": "code",
      "execution_count": null,
      "metadata": {
        "id": "NkzwlJvbZ7Jr"
      },
      "outputs": [],
      "source": [
        "Flix_df.columns"
      ]
    },
    {
      "cell_type": "code",
      "execution_count": null,
      "metadata": {
        "id": "ukXEY9tRaCUX"
      },
      "outputs": [],
      "source": [
        "movie_df.drop(columns=['show_id', 'title', 'cast', 'date_added', 'description', 'cast_name'],axis=1,inplace=True)\n",
        "\n",
        "tv_df.drop(columns=['show_id', 'title', 'cast', 'date_added',\n",
        "          'description', 'cast_name'],axis=1,inplace=True)\n",
        "\n",
        "new_flix_df = Flix_df.drop(columns=['show_id', 'title', 'cast', 'date_added', 'description', 'cast_name'],axis=1)\n",
        "# movie_df\n",
        "new_flix_df"
      ]
    },
    {
      "cell_type": "code",
      "execution_count": null,
      "metadata": {
        "id": "zKLt13IXaFSL"
      },
      "outputs": [],
      "source": [
        "#from sklearn.preprocessing import LabelEncoder\n",
        "le = LabelEncoder()\n",
        "new_flix_df[\"type\"] = le.fit_transform(new_flix_df[\"type\"])\n",
        "new_flix_df[\"country\"] = le.fit_transform(new_flix_df[\"country\"])\n",
        "\n",
        "new_flix_df['rating'] = le.fit_transform(new_flix_df['rating'])\n",
        "new_flix_df['listed_in'] = le.fit_transform(new_flix_df['listed_in'])\n"
      ]
    },
    {
      "cell_type": "markdown",
      "metadata": {
        "id": "xnbjjzCOUtEe"
      },
      "source": [
        "**Text Cleaning**"
      ]
    },
    {
      "cell_type": "code",
      "execution_count": null,
      "metadata": {
        "id": "9NqUo1XMaOHB"
      },
      "outputs": [],
      "source": [
        "#combining genre and description column \n",
        "text_df = Flix_df['listed_in'] + Flix_df['description']\n",
        "text_df"
      ]
    },
    {
      "cell_type": "code",
      "execution_count": null,
      "metadata": {
        "id": "BldC8dhcaTxW"
      },
      "outputs": [],
      "source": [
        "#fuction for cleaning text\n",
        "def clean_text(text):\n",
        "    le=WordNetLemmatizer()\n",
        "    word_tokens=word_tokenize(text)\n",
        "    tokens=[le.lemmatize(w) for w in word_tokens if w not in STOPWORDS and len(w)>3]\n",
        "    cleaned_text=\" \".join(tokens)\n",
        "    return cleaned_text\n"
      ]
    },
    {
      "cell_type": "code",
      "execution_count": null,
      "metadata": {
        "id": "ZInvMkPrab57"
      },
      "outputs": [],
      "source": [
        "new_text_df = text_df.apply(clean_text)\n",
        "new_text_df"
      ]
    },
    {
      "cell_type": "markdown",
      "metadata": {
        "id": "VcM3INvxUgZT"
      },
      "source": [
        "**EXTRACTING THE FEATURES AND CREATING THE DOCUMENT-TERM-MATRIX ( DTM )**\n",
        "\n",
        "1) LSA is generally implemented with Tfidf values everywhere and not with the Count Vectorizer.\n",
        "\n",
        "2) max_features depends on your computing power and also on eval. metric (coherence score is a metric for topic model). Try the value that gives best eval. metric and doesn't limits processing power.\n",
        "\n",
        "3) Default values for min_df & max_df worked well.\n",
        "\n",
        "4) Can try different values for ngram_range."
      ]
    },
    {
      "cell_type": "code",
      "execution_count": null,
      "metadata": {
        "id": "L2SIQE-6dHC2"
      },
      "outputs": [],
      "source": [
        "vect =TfidfVectorizer(stop_words=STOPWORDS,max_features=1000)\n",
        "vect_text=vect.fit_transform(new_text_df)\n",
        "print(vect.get_feature_names())\n"
      ]
    },
    {
      "cell_type": "code",
      "execution_count": null,
      "metadata": {
        "id": "9D2YSHlDaiuV"
      },
      "outputs": [],
      "source": [
        "idf=vect.idf_\n",
        "dd=dict(zip(vect.get_feature_names(), idf))\n",
        "l=sorted(dd, key=(dd).get)\n",
        "# print(l)\n",
        "print(l[0],l[-1])\n",
        "print(dd['international'])\n",
        "print(dd['bear'])"
      ]
    },
    {
      "cell_type": "code",
      "execution_count": null,
      "metadata": {
        "id": "UCW6pZjTdQFh"
      },
      "outputs": [],
      "source": [
        "new_text_df.head()"
      ]
    },
    {
      "cell_type": "markdown",
      "metadata": {
        "id": "EavSIgVeUN2H"
      },
      "source": [
        "#**Topic Modeling**\n",
        "#1. LSA(Latent semantic analysis)\n",
        "Latent semantic analysis (LSA) is a technique in natural language processing, in particular distributional semantics, of analyzing relationships between a set of documents and the terms they contain by producing a set of concepts related to the documents and terms. LSA assumes that words that are close in meaning will occur in similar pieces of text"
      ]
    },
    {
      "cell_type": "code",
      "execution_count": null,
      "metadata": {
        "id": "nnjvBEFXdcUm"
      },
      "outputs": [],
      "source": [
        "lsa_model = TruncatedSVD(n_components=10, algorithm='randomized', n_iter=10, random_state=42)\n",
        "\n",
        "lsa_top=lsa_model.fit_transform(vect_text)\n",
        "print(lsa_top[0])\n",
        "print(lsa_top.shape)"
      ]
    },
    {
      "cell_type": "code",
      "execution_count": null,
      "metadata": {
        "id": "DtqO6Bq2dgdA"
      },
      "outputs": [],
      "source": [
        "l=lsa_top[0]\n",
        "print(\"NETFLIX TOPIC 0 :\")\n",
        "for i,topic in enumerate(l):\n",
        "  print(\"NETFLIX Topic \",i,\" : \",topic*100)\n"
      ]
    },
    {
      "cell_type": "markdown",
      "metadata": {
        "id": "OUbJ6FnaUFfv"
      },
      "source": [
        "* Similalry for other documents we can do this. However note that values don't add to 1 as in LSA it is not probabiltiy of a topic in a document."
      ]
    },
    {
      "cell_type": "code",
      "execution_count": null,
      "metadata": {
        "id": "FWrGAgb2dnYY"
      },
      "outputs": [],
      "source": [
        "print(lsa_model.components_.shape) # (no_of_topics*no_of_words)\n",
        "print(lsa_model.components_)\n"
      ]
    },
    {
      "cell_type": "markdown",
      "metadata": {
        "id": "xER-32a0TLEz"
      },
      "source": [
        "**TOP-10 TOPICS ON NETFLIX**"
      ]
    },
    {
      "cell_type": "code",
      "execution_count": null,
      "metadata": {
        "id": "JRzXicHGdsfT"
      },
      "outputs": [],
      "source": [
        "vocab = vect.get_feature_names()\n",
        "\n",
        "for i, comp in enumerate(lsa_model.components_):\n",
        "    vocab_comp = zip(vocab, comp)\n",
        "    sorted_words = sorted(vocab_comp, key= lambda x:x[1], reverse=True)[:10]\n",
        "    print(\" NETFLIX Genre \"+str(i)+\": \")\n",
        "    for t in sorted_words:\n",
        "        print(t[0],end=\" \")\n",
        "    print(\"\\n\")"
      ]
    },
    {
      "cell_type": "markdown",
      "metadata": {
        "id": "BdPh-57GTvbY"
      },
      "source": [
        "* We can see that the topic modelling did the genre analysis in movies and tv shows.\n",
        "* Each topic identifies genre of movies an tv shows on netflix."
      ]
    },
    {
      "cell_type": "markdown",
      "metadata": {
        "id": "4AFHR5YnTfn_"
      },
      "source": [
        "#**Latent Dirichlet Allocation (LDA)**\n",
        "\n",
        "* latent Dirichlet allocation (LDA) is a generative statistical model that allows sets of observations to be explained by unobserved groups that explain why some parts of the data are similar."
      ]
    },
    {
      "cell_type": "code",
      "execution_count": null,
      "metadata": {
        "id": "Q-JlYhBNd1Or"
      },
      "outputs": [],
      "source": [
        "lda_model=LatentDirichletAllocation(n_components=10,learning_method='online',random_state=42,max_iter=1) \n",
        "# n_components is the number of topics\n",
        "lda_top=lda_model.fit_transform(vect_text)\n",
        "print(lda_top.shape)  # (no_of_doc,no_of_topics)\n",
        "print(lda_top[0])"
      ]
    },
    {
      "cell_type": "code",
      "execution_count": null,
      "metadata": {
        "id": "HbXUhEIgd6kS"
      },
      "outputs": [],
      "source": [
        "sum=0\n",
        "for i in lda_top[0]:\n",
        "  sum=sum+i\n",
        "print(sum)\n",
        "# composition of doc 0 for eg\n",
        "print(\"Doc 0: \")\n",
        "for i,topic in enumerate(lda_top[0]):\n",
        "  print(\"Topic \",i,\": \",topic*100,\"%\")"
      ]
    },
    {
      "cell_type": "code",
      "execution_count": null,
      "metadata": {
        "id": "6cxT5Qhrd8yh"
      },
      "outputs": [],
      "source": [
        "print(lda_model.components_[0])\n",
        "print(lda_model.components_.shape)  # (no_of_topics*no_of_words)"
      ]
    },
    {
      "cell_type": "code",
      "execution_count": null,
      "metadata": {
        "id": "6l5btKw8eHB-"
      },
      "outputs": [],
      "source": [
        "vocab = vect.get_feature_names()\n",
        "\n",
        "for i, comp in enumerate(lda_model.components_):\n",
        "    vocab_comp = zip(vocab, comp)\n",
        "    sorted_words = sorted(vocab_comp, key= lambda x:x[1], reverse=True)[:5]\n",
        "    print(\"Topic \"+str(i)+\": \")\n",
        "    for t in sorted_words:\n",
        "        print(t[0],end=\" \")\n",
        "    print(\"\\n\")\n"
      ]
    },
    {
      "cell_type": "markdown",
      "metadata": {
        "id": "hTSJCYHGS8xr"
      },
      "source": [
        "#GENRE WORDCLOUD"
      ]
    },
    {
      "cell_type": "code",
      "execution_count": null,
      "metadata": {
        "id": "2zsQjG7geP_A"
      },
      "outputs": [],
      "source": [
        "from wordcloud import WordCloud\n",
        "# Generate a word cloud image for given topic\n",
        "def draw_word_cloud(index):\n",
        "  imp_words_topic=\"\"\n",
        "  comp=lda_model.components_[index]\n",
        "  vocab_comp = zip(vocab, comp)\n",
        "  sorted_words = sorted(vocab_comp, key= lambda x:x[1], reverse=True)[:25]\n",
        "  for word in sorted_words:\n",
        "    imp_words_topic=imp_words_topic+\" \"+word[0]\n",
        "  \n",
        "  wordcloud = WordCloud(width=900, height=600).generate(imp_words_topic)\n",
        "  plt.subplots(figsize=(10,5))\n",
        "  plt.imshow(wordcloud)\n",
        "  plt.axis(\"off\")\n",
        "  plt.tight_layout()\n",
        "  plt.show()\n",
        "# topic 0\n",
        "\n",
        "draw_word_cloud(4)\n",
        "draw_word_cloud(3)\n",
        "draw_word_cloud(7)\n"
      ]
    },
    {
      "cell_type": "markdown",
      "metadata": {
        "id": "Ez4oDueJSykZ"
      },
      "source": [
        "* As we can see from the wordcloud that from two topics one is about documentries and other is about kids shows, therefore, topic modelling successfully classifies movies and shows into genre.\n",
        "\n"
      ]
    },
    {
      "cell_type": "markdown",
      "metadata": {
        "id": "3k5paq3wSQFf"
      },
      "source": [
        "# Word Cloud for Countries with the most content available"
      ]
    },
    {
      "cell_type": "code",
      "execution_count": null,
      "metadata": {
        "id": "Ujwka5e8edCA"
      },
      "outputs": [],
      "source": [
        "fig = plt.figure(figsize=(10,5),facecolor = 'b',edgecolor = 'r')\n",
        "wordcloud = WordCloud(background_color='floralwhite',width=1000, height=500 ).generate(\" \".join(Flix_df.country))\n",
        "plt.imshow(wordcloud,interpolation ='bilinear')\n",
        "plt.axis('off')\n",
        "plt.tight_layout()\n",
        "plt.savefig('country.png')\n",
        "plt.show()\n"
      ]
    },
    {
      "cell_type": "markdown",
      "metadata": {
        "id": "5NfymaCXSJ3n"
      },
      "source": [
        "#Word Cloud for Cast\n"
      ]
    },
    {
      "cell_type": "code",
      "execution_count": null,
      "metadata": {
        "id": "whnwB0ABen8f"
      },
      "outputs": [],
      "source": [
        "text = Flix_df['cast']\n",
        "wordcloud = WordCloud(width = 1000,height = 500,background_color = 'floralwhite').generate(\" \".join(Flix_df.cast))\n",
        "fig = plt.figure(figsize = (10, 5),facecolor = 'b',edgecolor = 'k',)\n",
        "plt.imshow(wordcloud)\n",
        "plt.axis('off')\n",
        "plt.tight_layout(pad=0)\n",
        "plt.show()\n"
      ]
    },
    {
      "cell_type": "markdown",
      "metadata": {
        "id": "RVpD-Dd7SCwK"
      },
      "source": [
        "#**Netflix Content for different age groups in top 10 countries**"
      ]
    },
    {
      "cell_type": "code",
      "execution_count": null,
      "metadata": {
        "id": "PRDbcdk_e4_x"
      },
      "outputs": [],
      "source": [
        "Flix_df['principal_country'] = Flix_df['country'].apply(lambda x: x.split(\",\")[0])\n",
        "Flix_df['principal_country'].head()\n",
        "\n",
        "country_order = Flix_df['principal_country'].value_counts()[:11].index\n",
        "content_data = Flix_df[['type', 'principal_country']].groupby('principal_country')['type'].value_counts().unstack().loc[country_order]\n",
        "content_data['sum'] = content_data.sum(axis=1)\n",
        "content_data_ratio = (content_data.T / content_data['sum']).T[['Movie', 'TV Show']].sort_values(by='Movie',ascending=False)[::-1]\n"
      ]
    },
    {
      "cell_type": "code",
      "execution_count": null,
      "metadata": {
        "id": "M5eDJugEe9wb"
      },
      "outputs": [],
      "source": [
        "# Creating new column for age rating\n",
        "rating_ages = {\n",
        "    'TV-PG': 'Older Kids',\n",
        "    'TV-MA': 'Adults',\n",
        "    'TV-Y7-FV': 'Older Kids',\n",
        "    'TV-Y7': 'Older Kids',\n",
        "    'TV-14': 'Young Adults',\n",
        "    'R': 'Adults',\n",
        "    'TV-Y': 'Kids',\n",
        "    'NR': 'Adults',\n",
        "    'PG-13': 'Teens',\n",
        "    'TV-G': 'Kids',\n",
        "    'PG': 'Older Kids',\n",
        "    'G': 'Kids',\n",
        "    'UR': 'Adults',\n",
        "    'NC-17': 'Adults'\n",
        "}\n",
        "Flix_df['age_rating'] = Flix_df['rating'].replace(rating_ages)\n",
        "Flix_df['age_rating'].unique()\n"
      ]
    },
    {
      "cell_type": "markdown",
      "metadata": {
        "id": "8LlOX2HkR0I_"
      },
      "source": [
        "#**Correlation Heatmap**"
      ]
    },
    {
      "cell_type": "code",
      "execution_count": null,
      "metadata": {
        "id": "CmJoJ59_fGWm"
      },
      "outputs": [],
      "source": [
        "Flix_df['count'] = 1\n",
        "data = Flix_df.groupby('principal_country')[['principal_country','count']].sum().sort_values(by='count',ascending=False).reset_index()[:10]\n",
        "data = data['principal_country']\n",
        "\n",
        "Flix_df_heatmap = Flix_df.loc[Flix_df['principal_country'].isin(data)]\n",
        "Flix_df_heatmap = pd.crosstab(Flix_df_heatmap['principal_country'], Flix_df_heatmap['age_rating'],normalize = \"index\").T\n",
        "Flix_df_heatmap\n"
      ]
    },
    {
      "cell_type": "code",
      "execution_count": null,
      "metadata": {
        "id": "3sROVa47fOov"
      },
      "outputs": [],
      "source": [
        "# Plotting the heatmap\n",
        "fig, ax = plt.subplots(1, 1, figsize=(12, 12))\n",
        "country_order2 = ['United States', 'India', 'United Kingdom', 'Canada', 'Japan', 'France', 'South Korea', 'Spain',\n",
        "       'Mexico']\n",
        "\n",
        "age_order = ['Adults', 'Teens', 'Young Adults', 'Older Kids', 'Kids']\n",
        "\n",
        "sns.heatmap(Flix_df_heatmap.loc[age_order,country_order2],cmap=\"jet\",square=True, linewidth=2.5,cbar=False,\n",
        "            annot=True,fmt='2.0%',vmax=.6,vmin=0.05,ax=ax,annot_kws={\"fontsize\":15})\n",
        "\n",
        "ax.spines['top'].set_visible(True)\n",
        "\n",
        "fig.text(.76,.765, 'Target ages proportion of total content by country', fontweight='bold', fontfamily='serif', fontsize=15,ha='right')   \n",
        "\n",
        "ax.set_yticklabels(ax.get_yticklabels(), fontfamily='serif', rotation = 0, fontsize=11)\n",
        "ax.set_xticklabels(ax.get_xticklabels(), fontfamily='serif', rotation=90, fontsize=11)\n",
        "\n",
        "ax.set_ylabel('')    \n",
        "ax.set_xlabel('')\n",
        "ax.tick_params(axis=u'both', which=u'both',length=0)\n",
        "plt.tight_layout()\n",
        "plt.show()\n"
      ]
    },
    {
      "cell_type": "markdown",
      "metadata": {
        "id": "P6AU5IOeRcuI"
      },
      "source": [
        "#**Observations:**\n",
        "\n",
        "* It is also interesting to see parallels between culturally comparable nations - the US and UK are closely aligned with their Netflix target ages, but radically different from, example, India or Japan!\n",
        "\n",
        "* Also, Mexico and Spain have similar content on Netflix for different age groups.\n",
        "\n"
      ]
    },
    {
      "cell_type": "markdown",
      "metadata": {
        "id": "cznN6L-HRUyJ"
      },
      "source": [
        "#**Clustering**\n",
        "Scaling the data"
      ]
    },
    {
      "cell_type": "code",
      "execution_count": null,
      "metadata": {
        "id": "LGh0FOzrfYs9"
      },
      "outputs": [],
      "source": [
        "# transform the data using StandardScaler\n",
        "Flix_df_standarized = pd.DataFrame(StandardScaler().fit_transform(new_flix_df),columns = new_flix_df.columns)\n",
        "\n",
        "#Perform a PCA to visualize clusters\n",
        "pca = PCA(n_components = 2)\n",
        "Flix_df_pca=pd.DataFrame(pca.fit_transform(Flix_df_standarized))"
      ]
    },
    {
      "cell_type": "markdown",
      "metadata": {
        "id": "xZbjNgYBQ-Hp"
      },
      "source": [
        "#**Clusters Model Implementation**\n",
        "* Affinity Propagation\n",
        "* Agglomerative Clustering\n",
        "* K-means Clustering"
      ]
    },
    {
      "cell_type": "code",
      "execution_count": null,
      "metadata": {
        "id": "DwEdLd7gfjBA"
      },
      "outputs": [],
      "source": [
        "Flix_df_standarized.head()\n"
      ]
    },
    {
      "cell_type": "markdown",
      "metadata": {
        "id": "GzI_ACfSQw5x"
      },
      "source": [
        "#**1. Affinity Propagation**\n",
        "   Indented block\n",
        "\n"
      ]
    },
    {
      "cell_type": "code",
      "execution_count": null,
      "metadata": {
        "id": "flB6CkuRf5tW"
      },
      "outputs": [],
      "source": [
        "af = AffinityPropagation(preference = -753, damping = 0.60, verbose = True, random_state = 0).fit(Flix_df_standarized) #Using euclidean distance as affinity estimator\n",
        "#af = AffinityPropagation(damping=0.97,affinity='euclidean',verbose=True).fit(netflix) #Using euclidean distance\n",
        "cluster_centers_indices = af.cluster_centers_indices_\n",
        "labels = af.labels_\n",
        "\n",
        "n_clusters_ = len(cluster_centers_indices)\n",
        "\n",
        "print('Estimated number of clusters: %d' % n_clusters_)\n",
        "print('Silhouette Coefficient: %0.3f' % metrics.silhouette_score(Flix_df_standarized, labels, metric = 'sqeuclidean'))\n"
      ]
    },
    {
      "cell_type": "code",
      "execution_count": null,
      "metadata": {
        "id": "iXzoIqIyf-Vm"
      },
      "outputs": [],
      "source": [
        "colors = cm.nipy_spectral(labels.astype(float) / n_clusters_)\n",
        "#ax = plt.gca()\n",
        "fig_dims = (10,7)\n",
        "fig, ax = plt.subplots(figsize = fig_dims) \n",
        "plt.scatter(Flix_df_pca[0], Flix_df_pca[1], c = colors)\n",
        "ax.set_title('The visualization of the clustered data.')\n",
        "ax.set_xlabel('PCA component 1')\n",
        "ax.set_ylabel('PCA component 2');"
      ]
    },
    {
      "cell_type": "code",
      "execution_count": null,
      "metadata": {
        "id": "YMLOsz1wgE4y"
      },
      "outputs": [],
      "source": [
        "print(\"Silhouette Coefficient: %0.3f\" % metrics.silhouette_score(Flix_df_standarized, labels, metric='sqeuclidean'))\n"
      ]
    },
    {
      "cell_type": "markdown",
      "metadata": {
        "id": "a2yMjwT9Qo6A"
      },
      "source": [
        "* Silhouette Coefficient score is 0.244 which is not that well. so we will try some diffrent clustering models.\n",
        "\n"
      ]
    },
    {
      "cell_type": "markdown",
      "metadata": {
        "id": "xu_dsNqcQZAD"
      },
      "source": [
        "#**2. Agglomerative Clustering**"
      ]
    },
    {
      "cell_type": "code",
      "execution_count": null,
      "metadata": {
        "id": "6yY9lWjBgWw5"
      },
      "outputs": [],
      "source": [
        "# lets start with programimg\n",
        "def silhouette_analysis(X, X_pca, range_n_clusters):\n",
        "    \n",
        "    for n_clusters in range_n_clusters:\n",
        "        fig, (ax1, ax2) = plt.subplots(1, 2)\n",
        "        fig.set_size_inches(18, 10)\n",
        "\n",
        "        ax1.set_xlim([-0.1, 1])\n",
        "        ax1.set_ylim([0, len(X) + (n_clusters + 1) * 10])\n",
        "\n",
        "        clusterer = AgglomerativeClustering(n_clusters = n_clusters,\n",
        "                                   affinity = 'euclidean',\n",
        "                                   linkage = 'ward')\n",
        "        cluster_labels = clusterer.fit_predict(X)\n",
        "\n",
        "        silhouette_avg = silhouette_score(X, cluster_labels)\n",
        "        print('For n_clusters =', n_clusters,\n",
        "              'The average silhouette_score is :', silhouette_avg)\n",
        "\n",
        "        sample_silhouette_values = silhouette_samples(X, cluster_labels)\n",
        "\n",
        "        y_lower = 15\n",
        "        for i in range(n_clusters):\n",
        "            ith_cluster_silhouette_values = \\\n",
        "                sample_silhouette_values[cluster_labels == i]\n",
        "\n",
        "            ith_cluster_silhouette_values.sort()\n",
        "\n",
        "            size_cluster_i = ith_cluster_silhouette_values.shape[0]\n",
        "            y_upper = y_lower + size_cluster_i\n",
        "\n",
        "            color = cm.nipy_spectral(float(i) / n_clusters)\n",
        "            ax1.fill_betweenx(np.arange(y_lower, y_upper),\n",
        "                              0, ith_cluster_silhouette_values,\n",
        "                              facecolor=color, edgecolor=color, alpha=0.7)\n",
        "\n",
        "            ax1.text(-0.5, y_lower + 0.5 * size_cluster_i, str(i))\n",
        "\n",
        "            y_lower = y_upper + 10\n",
        "        ax1.set_title('The silhouette plot for the various clusters.')\n",
        "        ax1.set_xlabel('The silhouette coefficient values')\n",
        "        ax1.set_ylabel('Clusters')\n",
        "\n",
        "        ax1.axvline(x=silhouette_avg, color = 'cyan', linestyle= '--')\n",
        "\n",
        "        ax1.set_yticks([])  \n",
        "        ax1.set_xticks([-0.2, 0, 0.2, 0.4, 0.6, 0.8, 1])\n",
        "\n",
        "        colors = cm.nipy_spectral(cluster_labels.astype(float) / n_clusters)\n",
        "        ax2.scatter(X_pca[0], X_pca[1], c=colors)\n",
        "    \n",
        "        ax2.set_title('The visualization of the clustered data.')\n",
        "        ax2.set_xlabel('PCA component 1')\n",
        "        ax2.set_ylabel('PCA component 2')\n",
        "\n",
        "        plt.suptitle(('\\nSilhouette analysis for Agglomerative clustering '\n",
        "                      'with n_clusters = %d' % n_clusters),\n",
        "                     fontsize=14, fontweight='bold')\n",
        "\n",
        "    plt.show()\n"
      ]
    },
    {
      "cell_type": "markdown",
      "metadata": {
        "id": "l_iCWI-IQBNs"
      },
      "source": [
        "* Assume we cut vertical lines with a horizontal line to obtain the number of clusters.\n",
        "* Number of clusters = 4"
      ]
    },
    {
      "cell_type": "code",
      "execution_count": null,
      "metadata": {
        "id": "4PR9sSgsgcpV"
      },
      "outputs": [],
      "source": [
        "silhouette_analysis(np.array(Flix_df_standarized),Flix_df_pca,[4])\n"
      ]
    },
    {
      "cell_type": "markdown",
      "metadata": {
        "id": "A_ObM5MOPpqa"
      },
      "source": [
        "#**3. K-MEANS clustering**\n"
      ]
    },
    {
      "cell_type": "code",
      "execution_count": null,
      "metadata": {
        "id": "KpXcV5GWgk8u"
      },
      "outputs": [],
      "source": [
        "# Generating the sample data from make_blobs\n",
        "X, y = make_blobs(n_samples=500,\n",
        "                  n_features=2,\n",
        "                  centers=4,\n",
        "                  cluster_std=1,\n",
        "                  center_box=(-10.0, 10.0),\n",
        "                  shuffle=True,\n",
        "                  random_state=1)              #  For reproducibility\n",
        "\n",
        "range_n_clusters = [2, 3, 4, 5,6]\n",
        "\n",
        "for n_clusters in range_n_clusters:\n",
        "    # Create a subplot with 1 row and 2 columns\n",
        "    fig, (ax1, ax2) = plt.subplots(1, 2)\n",
        "    fig.set_size_inches(18, 7)\n",
        "\n",
        "    # The 1st subplot is the silhouette plot\n",
        "    # The silhouette coefficient can range from -1, 1 but in this example all\n",
        "    # lie within [-0.1, 1]\n",
        "    ax1.set_xlim([-0.1, 1])\n",
        "    # The (n_clusters+1)*10 is for inserting blank space between silhouette\n",
        "    # plots of individual clusters, to demarcate them clearly.\n",
        "    ax1.set_ylim([0, len(X) + (n_clusters + 1) * 10])\n",
        "\n",
        "    # Initialize the clusterer with n_clusters value and a random generator\n",
        "    # seed of 10 for reproducibility.\n",
        "    clusterer = KMeans(n_clusters=n_clusters, random_state=10)\n",
        "    cluster_labels = clusterer.fit_predict(X)\n",
        "\n",
        "    # The silhouette_score gives the average value for all the samples.\n",
        "    # This gives a perspective into the density and separation of the formed\n",
        "    # clusters\n",
        "    silhouette_avg = silhouette_score(X, cluster_labels)\n",
        "    print(\"For n_clusters =\", n_clusters,\n",
        "          \"The average silhouette_score is :\", silhouette_avg)\n",
        "\n",
        "    # Compute the silhouette scores for each sample\n",
        "    sample_silhouette_values = silhouette_samples(X, cluster_labels)\n",
        "\n",
        "    y_lower = 10\n",
        "    for i in range(n_clusters):\n",
        "        # Aggregate the silhouette scores for samples belonging to\n",
        "        # cluster i, and sort them\n",
        "        ith_cluster_silhouette_values = \\\n",
        "            sample_silhouette_values[cluster_labels == i]\n",
        "\n",
        "        ith_cluster_silhouette_values.sort()\n",
        "\n",
        "        size_cluster_i = ith_cluster_silhouette_values.shape[0]\n",
        "        y_upper = y_lower + size_cluster_i\n",
        "\n",
        "        color = cm.nipy_spectral(float(i) / n_clusters)\n",
        "        ax1.fill_betweenx(np.arange(y_lower, y_upper),\n",
        "                          0, ith_cluster_silhouette_values,\n",
        "                          facecolor=color, edgecolor=color, alpha=0.7)\n",
        "\n",
        "        # Label the silhouette plots with their cluster numbers at the middle\n",
        "        ax1.text(-0.05, y_lower + 0.5 * size_cluster_i, str(i))\n",
        "\n",
        "        # Compute the new y_lower for next plot\n",
        "        y_lower = y_upper + 10  # 10 for the 0 samples\n",
        "\n",
        "    ax1.set_title(\"The silhouette plot for the various clusters.\")\n",
        "    ax1.set_xlabel(\"The silhouette coefficient values\")\n",
        "    ax1.set_ylabel(\"Cluster label\")\n",
        "\n",
        "    # The vertical line for average silhouette score of all the values\n",
        "    ax1.axvline(x=silhouette_avg, color=\"red\", linestyle=\"--\")\n",
        "\n",
        "    ax1.set_yticks([])  # Clear the yaxis labels / ticks\n",
        "    ax1.set_xticks([-0.1, 0, 0.2, 0.4, 0.6, 0.8, 1])\n",
        "\n",
        "    # 2nd Plot showing the actual clusters formed\n",
        "    colors = cm.nipy_spectral(cluster_labels.astype(float) / n_clusters)\n",
        "    ax2.scatter(X[:, 0], X[:, 1], marker='.', s=30, lw=0, alpha=0.7,\n",
        "                c=colors, edgecolor='k')\n",
        "\n",
        "    # Labeling the clusters\n",
        "    centers = clusterer.cluster_centers_\n",
        "    # Draw white circles at cluster centers\n",
        "    ax2.scatter(centers[:, 0], centers[:, 1], marker='o',\n",
        "                c=\"white\", alpha=1, s=200, edgecolor='k')\n",
        "\n",
        "    for i, c in enumerate(centers):\n",
        "        ax2.scatter(c[0], c[1], marker='$%d$' % i, alpha=1,\n",
        "                    s=50, edgecolor='k')\n",
        "\n",
        "    ax2.set_title(\"The visualization of the clustered data.\")\n",
        "    ax2.set_xlabel(\"Feature space for the 1st feature\")\n",
        "    ax2.set_ylabel(\"Feature space for the 2nd feature\")\n",
        "    plt.suptitle((\"Silhouette analysis for KMeans clustering on sample data \"\n",
        "                  \"with n_clusters = %d\" % n_clusters),\n",
        "                 fontsize=14, fontweight='bold')\n",
        "\n",
        "plt.show()\n"
      ]
    },
    {
      "cell_type": "markdown",
      "metadata": {
        "id": "XulIiTdcOplI"
      },
      "source": [
        "* Here is the Silhouette analysis done on the above plots to select an optimal value for n_clusters.\n",
        "\n",
        "* The value of 4 and 5 for n_clusters looks to be the optimal one. The silhouette score for each cluster is above average silhouette scores.\n",
        "\n"
      ]
    },
    {
      "cell_type": "code",
      "execution_count": null,
      "metadata": {
        "id": "csAUeLTfgwTC"
      },
      "outputs": [],
      "source": [
        "# MODEL INTERPRETATION\n",
        "# We try to gain new knowledge using the previous clustering\n",
        "sns_plot=sns.pairplot(Flix_df, hue=\"type\", diag_kind=\"hist\") #All features against each other\n",
        "kmeans = KMeans(n_clusters = 4,random_state=42)\n",
        "kmeans.fit(Flix_df_standarized)\n",
        "Flix_df['cluster'] = kmeans.labels_"
      ]
    },
    {
      "cell_type": "code",
      "execution_count": null,
      "metadata": {
        "id": "e9TCQOofkYyv"
      },
      "outputs": [],
      "source": [
        "# from sklearn.preprocessing import MinMaxScaler\n",
        "scaler = MinMaxScaler()\n",
        "sc = scaler.fit_transform(new_flix_df)\n",
        "Netflix = pd.DataFrame(sc, columns=list(new_flix_df.columns))\n",
        "X = Netflix\n",
        "Nc = range(1, 20)\n",
        "kmeans = [KMeans(n_clusters=i) for i in Nc]\n",
        "score = [kmeans[i].fit(Netflix).score(Netflix) for i in range(len(kmeans))]\n"
      ]
    },
    {
      "cell_type": "code",
      "execution_count": null,
      "metadata": {
        "id": "qIgGzVqckc2D"
      },
      "outputs": [],
      "source": [
        "pl.plot(Nc,score)\n",
        "pl.xlabel('Number of Clusters')\n",
        "pl.ylabel('Score')\n",
        "pl.title('Elbow Curve')\n",
        "pl.show()"
      ]
    },
    {
      "cell_type": "code",
      "execution_count": null,
      "metadata": {
        "id": "zdAw8TcYkkcc"
      },
      "outputs": [],
      "source": [
        "#fitting\n",
        "kmeans = KMeans(n_clusters=5)\n",
        "kmeans.fit(Netflix)"
      ]
    },
    {
      "cell_type": "code",
      "execution_count": null,
      "metadata": {
        "id": "iwzIhAs-krr4"
      },
      "outputs": [],
      "source": [
        "len(kmeans.labels_)\n",
        "Netflix['cluster'] = kmeans.labels_\n",
        "netflix.head()\n"
      ]
    },
    {
      "cell_type": "code",
      "execution_count": null,
      "metadata": {
        "id": "RArlZvLdkwvq"
      },
      "outputs": [],
      "source": [
        "plt.figure(figsize=(12,7))\n",
        "axis = sns.barplot(x=np.arange(0,5,1),y=Netflix.groupby(['cluster']).count()['type'].values)\n",
        "x=axis.set_xlabel(\"Cluster Number\")\n",
        "x=axis.set_ylabel(\"Data in a cluster\")\n"
      ]
    },
    {
      "cell_type": "markdown",
      "metadata": {
        "id": "w9EsL_50PE06"
      },
      "source": [
        "* We clearly see that one cluster is the largest and one cluster has the fewest number of movies."
      ]
    },
    {
      "cell_type": "code",
      "execution_count": null,
      "metadata": {
        "id": "gJut3gGAk4Bf"
      },
      "outputs": [],
      "source": [
        "df = pd.concat([new_flix_df,pd.DataFrame(score)],axis=1)\n",
        "df.columns.values[-5:]=['comp 1','comp 2','comp 3','comp 4','comp 5']\n",
        "df['segment k means'] = kmeans.labels_\n",
        "\n",
        "#df = df.set_index(df['show_id'])\n",
        "#f_mm.head()\n",
        "\n",
        "x_axis = df['comp 2']\n",
        "y_axis = df['comp 1']\n",
        "plt.figure(figsize=(15,15))\n",
        "sns.scatterplot(x_axis,y_axis,hue=df['segment k means'])\n",
        "plt.title('clusters')\n",
        "plt.show()\n",
        "\n",
        "df.info()"
      ]
    },
    {
      "cell_type": "markdown",
      "metadata": {
        "id": "1dgls13k7if4"
      },
      "source": [
        "Conclusion :\n",
        "1. Most films were released in the years 2018, 2019, and 2020.\n",
        "\n",
        "2. The months of October, November, December and January had the largest number of films and television series released.\n",
        "\n",
        "  1. We started by removing nan values and converting the Netflix added date to year, month, and day using date time format.\n",
        "\n",
        "  2. The second thing we did was feature engineering, which involved removing certain variables and preparing a dataframe to feed the clustering algorithms.\n",
        "\n",
        "  3. For the clustering algorithm, we utilised type, director, nation, released year, genre, and year.\n",
        "\n",
        "  4. Affinity Propagation and K-means Clustering were utilised to build the model.\n",
        "\n",
        "  5. In Affinity Propagation, we had 9 clusters and a Silhouette Coefficient score of 0.244.\n",
        "\n",
        "  6. The final model we used was k-means clustering, which consisted of 2,3,4,5,6 clusters. Score of silhoutte in k-measn clustering :\n",
        "\n",
        "n_clusters = 2 The average silhouette_score is : 07049787496083262\n",
        "\n",
        "n_clusters = 3 The average silhouette_score is : 05882004012129721\n",
        "\n",
        "n_clusters = 4 The average silhouette_score is : 06505186632729437\n",
        "\n",
        "n_clusters = 5 The average silhouette_score is : 0.56376469026194\n",
        "\n",
        "n_clusters = 6 The average silhouette_score is : 04504666294372765\n",
        "\n",
        "   1. After clustering, we can say that our alternative hypotheses is number of TV shows launched in the previous few years is NOT growing.\n",
        "\n",
        "   2. Our second alternative hypotheses is number of TV shows added to Netflix is higher\n",
        "\n",
        "     1. LDA and LSA has sorted much more similar titles in a group of genre\n",
        "\n",
        "     2. Recommendation system works perfectly well with description column\n",
        "\n",
        "     3. After applying K - means optimal value of number of clusters is\n",
        "      \n",
        "     4.  Silhouette score for a set of sample data points is used to measure how dense and well-separated the clusters are.\n",
        "\n",
        "1) There are about 70% movies and 30% TV shows on Netflix.\n",
        "\n",
        "2) Data set contains 7787 rows and 12 columns in that cast and director features contains large number of missing values so we can drop it and we have 10 features for the further implementation\n",
        "\n",
        "3) The United States has the highest number of content on Netflix by a huge margin followed by India.\n",
        "\n",
        "4) Raul Campos and Jan Sulter collectively have directed the most content on Netflix.\n",
        "\n",
        "5) Anupam Kher has acted in the highest number of films on Netflix. Drama is the most popular genre followed by comedy.\n",
        "\n",
        "6) More of the content is released in holiday season - October, November, December and January.\n",
        "\n",
        "7) The number of releases have significantly increased after 2015 and have dropped in 2021 because of Covid 19.\n",
        "\n",
        "8) By applying the silhouette score method for n range clusters on dataset we got best score which is 0.348 for 3 clusters it means content explained well on their own clusters, by using elbow method after k = 3 curve gets linear it means k = 3 will be the best cluster\n",
        "\n",
        "9) Applied different clustering models Kmeans, hierarchical, Agglomerative clustering on data we got the best cluster arrangments\n",
        "\n",
        "10) By applying different clustering algorithms to our dataset .we get the optimal number of cluster is equal to 3"
      ]
    }
  ],
  "metadata": {
    "colab": {
      "collapsed_sections": [],
      "provenance": [],
      "include_colab_link": true
    },
    "kernelspec": {
      "display_name": "Python 3",
      "name": "python3"
    },
    "language_info": {
      "name": "python"
    }
  },
  "nbformat": 4,
  "nbformat_minor": 0
}